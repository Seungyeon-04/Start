{
  "nbformat": 4,
  "nbformat_minor": 0,
  "metadata": {
    "colab": {
      "provenance": [],
      "toc_visible": true,
      "authorship_tag": "ABX9TyPR0wvNi5sMxxJfrE1+LsIL",
      "include_colab_link": true
    },
    "kernelspec": {
      "name": "python3",
      "display_name": "Python 3"
    },
    "language_info": {
      "name": "python"
    }
  },
  "cells": [
    {
      "cell_type": "markdown",
      "metadata": {
        "id": "view-in-github",
        "colab_type": "text"
      },
      "source": [
        "<a href=\"https://colab.research.google.com/github/Seungyeon-04/Start/blob/main/bigdata_lab_3day.ipynb\" target=\"_parent\"><img src=\"https://colab.research.google.com/assets/colab-badge.svg\" alt=\"Open In Colab\"/></a>"
      ]
    },
    {
      "cell_type": "code",
      "execution_count": 1,
      "metadata": {
        "colab": {
          "base_uri": "https://localhost:8080/"
        },
        "id": "iuH-ZHseUmQz",
        "outputId": "3cf139d2-31ef-469e-91d9-8c3c3674ff34"
      },
      "outputs": [
        {
          "output_type": "stream",
          "name": "stdout",
          "text": [
            "200\n"
          ]
        }
      ],
      "source": [
        "a=200\n",
        "print(a)"
      ]
    },
    {
      "cell_type": "code",
      "source": [
        "a= 100"
      ],
      "metadata": {
        "id": "XnGTLoy2cc24"
      },
      "execution_count": 2,
      "outputs": []
    },
    {
      "cell_type": "code",
      "source": [
        "print(a)"
      ],
      "metadata": {
        "colab": {
          "base_uri": "https://localhost:8080/"
        },
        "id": "QBH2pOqMcqzk",
        "outputId": "7e4e9c08-882b-401e-bdbc-df39e62c8610"
      },
      "execution_count": 3,
      "outputs": [
        {
          "output_type": "stream",
          "name": "stdout",
          "text": [
            "100\n"
          ]
        }
      ]
    },
    {
      "cell_type": "code",
      "source": [
        "n = 2\n",
        "n = n+1"
      ],
      "metadata": {
        "colab": {
          "base_uri": "https://localhost:8080/",
          "height": 146
        },
        "id": "WeAb1Kulcsu7",
        "outputId": "e98a5e0e-0060-41dc-f07e-1e35463932c8"
      },
      "execution_count": 4,
      "outputs": [
        {
          "output_type": "error",
          "ename": "NameError",
          "evalue": "name 'n' is not defined",
          "traceback": [
            "\u001b[0;31m---------------------------------------------------------------------------\u001b[0m",
            "\u001b[0;31mNameError\u001b[0m                                 Traceback (most recent call last)",
            "\u001b[0;32m<ipython-input-4-0fbc2007d0f6>\u001b[0m in \u001b[0;36m<cell line: 1>\u001b[0;34m()\u001b[0m\n\u001b[0;32m----> 1\u001b[0;31m \u001b[0mn\u001b[0m\u001b[0;34m=\u001b[0m\u001b[0mn\u001b[0m\u001b[0;34m+\u001b[0m\u001b[0;36m1\u001b[0m\u001b[0;34m\u001b[0m\u001b[0;34m\u001b[0m\u001b[0m\n\u001b[0m",
            "\u001b[0;31mNameError\u001b[0m: name 'n' is not defined"
          ]
        }
      ]
    },
    {
      "cell_type": "code",
      "source": [
        "n=2\n",
        "n += 1 #자기 자신 갱신할 때 (n=n+1)\n",
        "#속도문제 이슈로 += 형식으로 작성하는게 좋음\n",
        "#+=, -=, *=, /= 씁시당"
      ],
      "metadata": {
        "id": "xxckkMDUdvRa"
      },
      "execution_count": 6,
      "outputs": []
    },
    {
      "cell_type": "code",
      "source": [
        "#파이썬 특징 = 멀티할당\n",
        "#코드가 간결해짐\n",
        "#두 변수 값 교환\n",
        "a=10\n",
        "b=20\n",
        "print(a,b)"
      ],
      "metadata": {
        "colab": {
          "base_uri": "https://localhost:8080/"
        },
        "id": "OXjc5yxleUGF",
        "outputId": "bd6b8eae-122c-4624-8b52-b360331e9d4b"
      },
      "execution_count": 7,
      "outputs": [
        {
          "output_type": "stream",
          "name": "stdout",
          "text": [
            "10 20\n"
          ]
        }
      ]
    },
    {
      "cell_type": "code",
      "source": [
        "#일반적인 언어들에서는 중간에 매개체 필요\n",
        "#정렬이라는 알고리즘의 가장 핵심적인 기술\n",
        "#파이썬에서는....\n",
        "a=10\n",
        "b=20\n",
        "a,b = b,a\n",
        "print(a,b)"
      ],
      "metadata": {
        "colab": {
          "base_uri": "https://localhost:8080/"
        },
        "id": "Jt7wL5w_e0qv",
        "outputId": "0b2a0d4d-bf7a-42ae-cfed-2521bebf8f45"
      },
      "execution_count": 8,
      "outputs": [
        {
          "output_type": "stream",
          "name": "stdout",
          "text": [
            "20 10\n"
          ]
        }
      ]
    },
    {
      "cell_type": "code",
      "source": [
        "#파이썬에서 편하게 치환 가능\n",
        "a=10\n",
        "b=20\n",
        "c=30\n",
        "a,b,c = c,a,b\n",
        "print(a,b,c)"
      ],
      "metadata": {
        "colab": {
          "base_uri": "https://localhost:8080/"
        },
        "id": "VPxdUISwfWqx",
        "outputId": "b0d6c858-c117-48c8-94d9-0ab740242d5d"
      },
      "execution_count": 9,
      "outputs": [
        {
          "output_type": "stream",
          "name": "stdout",
          "text": [
            "30 10 20\n"
          ]
        }
      ]
    },
    {
      "cell_type": "code",
      "source": [
        "clear"
      ],
      "metadata": {
        "colab": {
          "base_uri": "https://localhost:8080/"
        },
        "id": "e1vYIstVfomL",
        "outputId": "0cad0cf3-36c7-4af8-d2ea-f91b297315ce"
      },
      "execution_count": 10,
      "outputs": [
        {
          "output_type": "stream",
          "name": "stdout",
          "text": [
            "\u001b[H\u001b[2J"
          ]
        }
      ]
    },
    {
      "cell_type": "code",
      "source": [
        "#예 우리반 3명의 a,b,c\n",
        "# 점수 80 70 95\n",
        "# 총점은 얼마?\n",
        "a,b,c = 80 , 70, 95\n",
        "print(a,b,c)"
      ],
      "metadata": {
        "colab": {
          "base_uri": "https://localhost:8080/"
        },
        "id": "L5-noht2frky",
        "outputId": "87198994-a70f-4db1-a442-fc5d13fbd6b9"
      },
      "execution_count": 11,
      "outputs": [
        {
          "output_type": "stream",
          "name": "stdout",
          "text": [
            "80 70 95\n"
          ]
        }
      ]
    },
    {
      "cell_type": "code",
      "source": [
        "socres ={\"a\":90, \"b\":100, \"c\":85}\n",
        "print(a)"
      ],
      "metadata": {
        "colab": {
          "base_uri": "https://localhost:8080/"
        },
        "id": "xYvKkzJgoThG",
        "outputId": "e7aaa4c3-4b59-46b3-e18e-69fdf50fb03b"
      },
      "execution_count": 14,
      "outputs": [
        {
          "output_type": "stream",
          "name": "stdout",
          "text": [
            "80\n"
          ]
        }
      ]
    },
    {
      "cell_type": "code",
      "source": [
        "5/3"
      ],
      "metadata": {
        "colab": {
          "base_uri": "https://localhost:8080/"
        },
        "id": "6uW-H4mXqH5G",
        "outputId": "8ca6818c-19ec-4c57-e64c-7901ef955822"
      },
      "execution_count": 15,
      "outputs": [
        {
          "output_type": "execute_result",
          "data": {
            "text/plain": [
              "1.6666666666666667"
            ]
          },
          "metadata": {},
          "execution_count": 15
        }
      ]
    },
    {
      "cell_type": "code",
      "source": [
        "5//3"
      ],
      "metadata": {
        "colab": {
          "base_uri": "https://localhost:8080/"
        },
        "id": "HTs4K1WOqrZH",
        "outputId": "57aeb06b-18a3-446d-a51d-4baeecc78050"
      },
      "execution_count": 17,
      "outputs": [
        {
          "output_type": "execute_result",
          "data": {
            "text/plain": [
              "1"
            ]
          },
          "metadata": {},
          "execution_count": 17
        }
      ]
    },
    {
      "cell_type": "code",
      "source": [
        "#파이썬에서 공직적으로 만든 FM적인 함수\n",
        "#divmod() 함수\n",
        "#입력 : 무엇을 무엇으로 나눌지에 대한 정보(기준수, 나눌수)\n",
        "#기능 : 나눗셈을 해서 몫, 나머지 던져줌\n",
        "#출력 : 입력에 대한 몫, 나머지\n",
        "divmod(5,3)"
      ],
      "metadata": {
        "colab": {
          "base_uri": "https://localhost:8080/"
        },
        "id": "-55Cy5vLq2LI",
        "outputId": "24f7422b-6425-4879-872d-2d58455740ea"
      },
      "execution_count": 18,
      "outputs": [
        {
          "output_type": "execute_result",
          "data": {
            "text/plain": [
              "(1, 2)"
            ]
          },
          "metadata": {},
          "execution_count": 18
        }
      ]
    },
    {
      "cell_type": "code",
      "source": [
        "print(divmod(5,3)[0])  #유연하게 생각하기"
      ],
      "metadata": {
        "colab": {
          "base_uri": "https://localhost:8080/"
        },
        "id": "FNaqPUJ4sSPi",
        "outputId": "d02568aa-06de-4734-8b62-8e8b39f7ee7e"
      },
      "execution_count": 20,
      "outputs": [
        {
          "output_type": "stream",
          "name": "stdout",
          "text": [
            "1\n"
          ]
        }
      ]
    },
    {
      "cell_type": "code",
      "source": [
        "#파이썬의 멀티 할당\n",
        "q , m = divmod(5,3)\n",
        "print(q,m)"
      ],
      "metadata": {
        "colab": {
          "base_uri": "https://localhost:8080/"
        },
        "id": "kWC_0IsWsbG6",
        "outputId": "e268de50-4fae-4a12-8a86-e7e2d887a412"
      },
      "execution_count": 22,
      "outputs": [
        {
          "output_type": "stream",
          "name": "stdout",
          "text": [
            "1 2\n"
          ]
        }
      ]
    },
    {
      "cell_type": "code",
      "source": [
        "#파이썬의 여러개의 값을 다루는 자료형 : 리스트\n",
        "# 1) 기본구조 [값  값,,,,]\n",
        "# 2) 기본기능 : 값을 추가(append, insert)\n",
        "#               --> append : 값을 맨 뒤에 추가\n",
        "#               --> insert : 중간에 끼어들기! (어디에 무엇을 끼워넣을지 정보 필요)\n",
        "#               : 값 제거(pop, remove)\n",
        "#               --> pop : 위치 중심으로 제거 (기본 : 맨 뒤)\n",
        "#               --> remove : 값을 중심으로 제거 (중복된 값이 있을 때..-> 맨앞의 1개만 제거!!!!)\n",
        "# 파이썬의 잡다한 기능들.. 코테를 하려면 미리 알아 두기..\n",
        "# +++ 파이썬으로 코테를 할 때 : stack / queue 자료형 (자료구조와 알고리즘)\n",
        "#     +++탐색이라는 알고리즘에 주로 사용 됨 (ex)최단거리"
      ],
      "metadata": {
        "id": "mtJhc3mOs46Z"
      },
      "execution_count": 25,
      "outputs": []
    },
    {
      "cell_type": "code",
      "source": [
        "a_list = [10,20,30,40]\n",
        "a_list"
      ],
      "metadata": {
        "colab": {
          "base_uri": "https://localhost:8080/"
        },
        "id": "moebTrIktN0Y",
        "outputId": "c6f7f0ab-41e5-4c1b-a488-8d8dbb297482"
      },
      "execution_count": 26,
      "outputs": [
        {
          "output_type": "execute_result",
          "data": {
            "text/plain": [
              "[10, 20, 30, 40]"
            ]
          },
          "metadata": {},
          "execution_count": 26
        }
      ]
    },
    {
      "cell_type": "code",
      "source": [
        "a_list.append(50)\n",
        "a_list\n",
        "# 중요한 포인트 : 재할당 안해도 됨\n",
        "# a_list = a_list.append(50) 이케 안해도 됨"
      ],
      "metadata": {
        "colab": {
          "base_uri": "https://localhost:8080/"
        },
        "id": "EYva017bu8C3",
        "outputId": "5c5f62c1-5f6e-44b7-e802-cd8b49b69878"
      },
      "execution_count": 27,
      "outputs": [
        {
          "output_type": "execute_result",
          "data": {
            "text/plain": [
              "[10, 20, 30, 40, 50]"
            ]
          },
          "metadata": {},
          "execution_count": 27
        }
      ]
    },
    {
      "cell_type": "code",
      "source": [
        "#여러개의 값을 모아둘 때...\n",
        "# 그냥 여러 자료형을 다 합칠 수 있음\n",
        "a_list = [1,3,111,11.3,\"hello\",[1,3,5]]\n",
        "a_list[4]"
      ],
      "metadata": {
        "colab": {
          "base_uri": "https://localhost:8080/",
          "height": 35
        },
        "id": "6ldXVBF9vSlR",
        "outputId": "329cafad-be2e-4539-9113-f4b23a8b464a"
      },
      "execution_count": 29,
      "outputs": [
        {
          "output_type": "execute_result",
          "data": {
            "text/plain": [
              "'hello'"
            ],
            "application/vnd.google.colaboratory.intrinsic+json": {
              "type": "string"
            }
          },
          "metadata": {},
          "execution_count": 29
        }
      ]
    },
    {
      "cell_type": "code",
      "source": [
        "a_list.append(100)\n",
        "a_list"
      ],
      "metadata": {
        "colab": {
          "base_uri": "https://localhost:8080/"
        },
        "id": "-uMYcxY4vq85",
        "outputId": "3a910d72-f802-4ba9-ef02-94d42a5aa695"
      },
      "execution_count": 30,
      "outputs": [
        {
          "output_type": "execute_result",
          "data": {
            "text/plain": [
              "[1, 3, 111, 11.3, 'hello', [1, 3, 5], 100]"
            ]
          },
          "metadata": {},
          "execution_count": 30
        }
      ]
    },
    {
      "cell_type": "code",
      "source": [
        "a_list.insert(2,\"a\")\n",
        "a_list"
      ],
      "metadata": {
        "colab": {
          "base_uri": "https://localhost:8080/"
        },
        "id": "TtkD9Txcv4wN",
        "outputId": "7bb3e893-a1f6-4ca5-8533-2358adde4802"
      },
      "execution_count": 31,
      "outputs": [
        {
          "output_type": "execute_result",
          "data": {
            "text/plain": [
              "[1, 3, 'a', 111, 11.3, 'hello', [1, 3, 5], 100]"
            ]
          },
          "metadata": {},
          "execution_count": 31
        }
      ]
    },
    {
      "cell_type": "code",
      "source": [
        "a_list.pop()"
      ],
      "metadata": {
        "colab": {
          "base_uri": "https://localhost:8080/"
        },
        "id": "em1jTEVkwAR7",
        "outputId": "f1415d84-92c3-4034-aa59-9165cd865638"
      },
      "execution_count": 32,
      "outputs": [
        {
          "output_type": "execute_result",
          "data": {
            "text/plain": [
              "100"
            ]
          },
          "metadata": {},
          "execution_count": 32
        }
      ]
    },
    {
      "cell_type": "code",
      "source": [
        "a_list.pop(0)"
      ],
      "metadata": {
        "colab": {
          "base_uri": "https://localhost:8080/"
        },
        "id": "_MF7WIoZwD22",
        "outputId": "f9cdcbeb-b2d2-491e-88f0-a8f047e44838"
      },
      "execution_count": 34,
      "outputs": [
        {
          "output_type": "execute_result",
          "data": {
            "text/plain": [
              "1"
            ]
          },
          "metadata": {},
          "execution_count": 34
        }
      ]
    },
    {
      "cell_type": "code",
      "source": [
        "a_list"
      ],
      "metadata": {
        "colab": {
          "base_uri": "https://localhost:8080/"
        },
        "id": "18T7ckuXwJxB",
        "outputId": "b7283a79-a4aa-4866-9a16-f116ac5b1dd3"
      },
      "execution_count": 35,
      "outputs": [
        {
          "output_type": "execute_result",
          "data": {
            "text/plain": [
              "[3, 'a', 111, 11.3, 'hello', [1, 3, 5]]"
            ]
          },
          "metadata": {},
          "execution_count": 35
        }
      ]
    },
    {
      "cell_type": "code",
      "source": [
        "a_list.insert(4,\"55\")"
      ],
      "metadata": {
        "id": "w2sLHoDWwNIx"
      },
      "execution_count": 36,
      "outputs": []
    },
    {
      "cell_type": "code",
      "source": [
        "a_list"
      ],
      "metadata": {
        "colab": {
          "base_uri": "https://localhost:8080/"
        },
        "id": "D8JzUZOZwaCb",
        "outputId": "0f028a27-7871-4d3f-89c6-ac2635450380"
      },
      "execution_count": 37,
      "outputs": [
        {
          "output_type": "execute_result",
          "data": {
            "text/plain": [
              "[3, 'a', 111, 11.3, '55', 'hello', [1, 3, 5]]"
            ]
          },
          "metadata": {},
          "execution_count": 37
        }
      ]
    },
    {
      "cell_type": "code",
      "source": [
        "a_list.remove(3)\n",
        "a_list"
      ],
      "metadata": {
        "colab": {
          "base_uri": "https://localhost:8080/"
        },
        "id": "CtoxsxTewcQo",
        "outputId": "cd70e1ab-6cd1-4254-a9ab-b5d6ba04727d"
      },
      "execution_count": 38,
      "outputs": [
        {
          "output_type": "execute_result",
          "data": {
            "text/plain": [
              "['a', 111, 11.3, '55', 'hello', [1, 3, 5]]"
            ]
          },
          "metadata": {},
          "execution_count": 38
        }
      ]
    },
    {
      "cell_type": "code",
      "source": [
        "##remove를 할때에는 모든 값울 지우는게 아니고 첫번째 값만 지움..주의 필요"
      ],
      "metadata": {
        "id": "aE936rxVwgJ7"
      },
      "execution_count": 39,
      "outputs": []
    },
    {
      "cell_type": "code",
      "source": [
        "#여러개의 값들을 나열 -> 값의정보접근 ==> 위치정보 필요!!\n",
        "#   순방향 : 0, 양의 정수\n",
        "#   역방향 : 음의 정수 (-1 : 맨뒤에서 첫번째)\n",
        "\n",
        "# 하나의 값을 가지고 올지 vs 여러개의 값을 규칙\n",
        "#==> 인덱스 자리에 : 정수 인덱스 vs 슬라이싱"
      ],
      "metadata": {
        "id": "BTzlYhrjwnxR"
      },
      "execution_count": 40,
      "outputs": []
    },
    {
      "cell_type": "code",
      "source": [
        "a_list[0]"
      ],
      "metadata": {
        "colab": {
          "base_uri": "https://localhost:8080/",
          "height": 35
        },
        "id": "Q7StVbdyxFt2",
        "outputId": "b2b01f59-bbbf-4f74-f450-88dad1caba08"
      },
      "execution_count": 41,
      "outputs": [
        {
          "output_type": "execute_result",
          "data": {
            "text/plain": [
              "'a'"
            ],
            "application/vnd.google.colaboratory.intrinsic+json": {
              "type": "string"
            }
          },
          "metadata": {},
          "execution_count": 41
        }
      ]
    },
    {
      "cell_type": "code",
      "source": [
        "a_list"
      ],
      "metadata": {
        "colab": {
          "base_uri": "https://localhost:8080/"
        },
        "id": "jig9yczFxR4p",
        "outputId": "29be01ac-0098-4a25-d0e8-e7552159c079"
      },
      "execution_count": 42,
      "outputs": [
        {
          "output_type": "execute_result",
          "data": {
            "text/plain": [
              "['a', 111, 11.3, '55', 'hello', [1, 3, 5]]"
            ]
          },
          "metadata": {},
          "execution_count": 42
        }
      ]
    },
    {
      "cell_type": "code",
      "source": [
        "a_list[-1][2]"
      ],
      "metadata": {
        "colab": {
          "base_uri": "https://localhost:8080/"
        },
        "id": "PXHmnJoNxY7t",
        "outputId": "e5a1879b-05ee-4baf-d035-78418f1eccd6"
      },
      "execution_count": 44,
      "outputs": [
        {
          "output_type": "execute_result",
          "data": {
            "text/plain": [
              "5"
            ]
          },
          "metadata": {},
          "execution_count": 44
        }
      ]
    },
    {
      "cell_type": "code",
      "source": [
        "a_list[0:4]"
      ],
      "metadata": {
        "colab": {
          "base_uri": "https://localhost:8080/"
        },
        "id": "96ajCt4exbDm",
        "outputId": "31ffc1d5-eafa-4248-bdcf-04be089ff6a7"
      },
      "execution_count": 46,
      "outputs": [
        {
          "output_type": "execute_result",
          "data": {
            "text/plain": [
              "['a', 111, 11.3, '55']"
            ]
          },
          "metadata": {},
          "execution_count": 46
        }
      ]
    },
    {
      "cell_type": "code",
      "source": [
        "#슬라이시에 대한 룰 : 정수 인덱스 자리에서 사용\n",
        "# --> 시작점 : 끝점(빠짐) : 간격\n",
        "# --> 여러개의 값들을 규칙적으로 접근할 때 사용\n",
        "a_list[1:5:2]"
      ],
      "metadata": {
        "colab": {
          "base_uri": "https://localhost:8080/"
        },
        "id": "YbfYS1hpxmdj",
        "outputId": "53edc778-9170-4623-82ec-a070ce870f55"
      },
      "execution_count": 47,
      "outputs": [
        {
          "output_type": "execute_result",
          "data": {
            "text/plain": [
              "[111, '55']"
            ]
          },
          "metadata": {},
          "execution_count": 47
        }
      ]
    },
    {
      "cell_type": "code",
      "source": [
        "# 참고) 슬라이싱을 활용해서 자기자신을 표현\n",
        "a_list[::]"
      ],
      "metadata": {
        "colab": {
          "base_uri": "https://localhost:8080/"
        },
        "id": "CBv7O8dZyMyV",
        "outputId": "a27a761c-b4bb-4312-d225-c7d91bcc1647"
      },
      "execution_count": 49,
      "outputs": [
        {
          "output_type": "execute_result",
          "data": {
            "text/plain": [
              "['a', 111, 11.3, '55', 'hello', [1, 3, 5]]"
            ]
          },
          "metadata": {},
          "execution_count": 49
        }
      ]
    },
    {
      "cell_type": "code",
      "source": [],
      "metadata": {
        "id": "4KOPOvswzEgN"
      },
      "execution_count": null,
      "outputs": []
    },
    {
      "cell_type": "code",
      "source": [
        "# 순서를 뒤집어서 맨 뒤를 맨 앞으로 하려면\n",
        "a_list[::-1]"
      ],
      "metadata": {
        "colab": {
          "base_uri": "https://localhost:8080/"
        },
        "id": "-wH3vPr6ybWH",
        "outputId": "4a03dd4f-284a-4522-ebff-45e51297f236"
      },
      "execution_count": 50,
      "outputs": [
        {
          "output_type": "execute_result",
          "data": {
            "text/plain": [
              "[[1, 3, 5], 'hello', '55', 11.3, 111, 'a']"
            ]
          },
          "metadata": {},
          "execution_count": 50
        }
      ]
    },
    {
      "cell_type": "code",
      "source": [
        "#참고) 여러개인데 규칙이 없이 그냥 나열하는 것은\n",
        "a_list[[1,3,4]] ->안됨\n",
        "# numpy에서는 된다."
      ],
      "metadata": {
        "colab": {
          "base_uri": "https://localhost:8080/",
          "height": 110
        },
        "collapsed": true,
        "id": "Qy8KtI21yobc",
        "outputId": "69f89a28-f0b9-4c41-d93e-8b78a8457a21"
      },
      "execution_count": 48,
      "outputs": [
        {
          "output_type": "error",
          "ename": "SyntaxError",
          "evalue": "invalid syntax (<ipython-input-48-724fbe4d9d6c>, line 2)",
          "traceback": [
            "\u001b[0;36m  File \u001b[0;32m\"<ipython-input-48-724fbe4d9d6c>\"\u001b[0;36m, line \u001b[0;32m2\u001b[0m\n\u001b[0;31m    a_list[[1,3,4]] ->안됨\u001b[0m\n\u001b[0m                    ^\u001b[0m\n\u001b[0;31mSyntaxError\u001b[0m\u001b[0;31m:\u001b[0m invalid syntax\n"
          ]
        }
      ]
    },
    {
      "cell_type": "code",
      "source": [
        "# 리스트와 아주 유사 : tuple\n",
        "# ==> 조작이 불가능 (추가, 제거 x)\n",
        "a_tuple= (1,2,3,4,\"hello\",3.5)"
      ],
      "metadata": {
        "id": "wKa3ZZXjzACo"
      },
      "execution_count": 53,
      "outputs": []
    },
    {
      "cell_type": "code",
      "source": [
        "t = list(a_tuple)"
      ],
      "metadata": {
        "id": "H407FAFp3qgI"
      },
      "execution_count": 54,
      "outputs": []
    },
    {
      "cell_type": "code",
      "source": [
        "t"
      ],
      "metadata": {
        "colab": {
          "base_uri": "https://localhost:8080/"
        },
        "id": "lvTnFW8Y3u40",
        "outputId": "845b0899-fcb5-441b-8d5f-49a6a28f0e32"
      },
      "execution_count": 55,
      "outputs": [
        {
          "output_type": "execute_result",
          "data": {
            "text/plain": [
              "[1, 2, 3, 4, 'hello', 3.5]"
            ]
          },
          "metadata": {},
          "execution_count": 55
        }
      ]
    },
    {
      "cell_type": "code",
      "source": [
        "# 자료형들에 대한 특징을 정확하게 인지 하고 필요에 따라 사용"
      ],
      "metadata": {
        "id": "fMi07uh13wIl"
      },
      "execution_count": 57,
      "outputs": []
    },
    {
      "cell_type": "code",
      "source": [
        "# 값 종류 : 문자/문자열\n",
        "# 1개 : 문자\n",
        "# 여러개 : 문자열\n",
        "# 구별자와 문자열 구별하기 위해 ''' ''' \"\"\" \"\"\" 사용"
      ],
      "metadata": {
        "id": "zFJq62Ws3z89"
      },
      "execution_count": 58,
      "outputs": []
    },
    {
      "cell_type": "code",
      "source": [
        "\"hello\"[0]"
      ],
      "metadata": {
        "colab": {
          "base_uri": "https://localhost:8080/",
          "height": 35
        },
        "id": "YCv5WrCu4wkG",
        "outputId": "eed243df-341d-4d31-e30d-f23fedde5d70"
      },
      "execution_count": 59,
      "outputs": [
        {
          "output_type": "execute_result",
          "data": {
            "text/plain": [
              "'h'"
            ],
            "application/vnd.google.colaboratory.intrinsic+json": {
              "type": "string"
            }
          },
          "metadata": {},
          "execution_count": 59
        }
      ]
    },
    {
      "cell_type": "code",
      "source": [
        "\"hello\"[-1]"
      ],
      "metadata": {
        "colab": {
          "base_uri": "https://localhost:8080/",
          "height": 35
        },
        "id": "Ch9e953B4zrf",
        "outputId": "33159d96-9d19-49ca-fd16-a4db7587afeb"
      },
      "execution_count": 60,
      "outputs": [
        {
          "output_type": "execute_result",
          "data": {
            "text/plain": [
              "'o'"
            ],
            "application/vnd.google.colaboratory.intrinsic+json": {
              "type": "string"
            }
          },
          "metadata": {},
          "execution_count": 60
        }
      ]
    },
    {
      "cell_type": "code",
      "source": [
        "\"탐은 \\\"나는 집에가요\\\" 라고 말했다.\""
      ],
      "metadata": {
        "colab": {
          "base_uri": "https://localhost:8080/",
          "height": 35
        },
        "id": "Ptg6ZVX244MT",
        "outputId": "debf4c6c-4ea5-47be-b7e7-099d9978a478"
      },
      "execution_count": 61,
      "outputs": [
        {
          "output_type": "execute_result",
          "data": {
            "text/plain": [
              "'탐은 \"나는 집에가요\" 라고 말했다.'"
            ],
            "application/vnd.google.colaboratory.intrinsic+json": {
              "type": "string"
            }
          },
          "metadata": {},
          "execution_count": 61
        }
      ]
    },
    {
      "cell_type": "code",
      "source": [
        "# 자연어 처리/ 언어 모델 쪽 : 문자열 처리는 필수 (규칙 기반의 정규식 사용해야함)"
      ],
      "metadata": {
        "id": "ub4KlGLr5ocT"
      },
      "execution_count": 62,
      "outputs": []
    },
    {
      "cell_type": "code",
      "source": [
        "a= [1,2,3]\n",
        "b=[10,20,30]\n",
        "a+b"
      ],
      "metadata": {
        "colab": {
          "base_uri": "https://localhost:8080/"
        },
        "id": "gjcRF0JJ6NJF",
        "outputId": "1587b37d-c62f-4782-e15e-df384aa1914b"
      },
      "execution_count": 63,
      "outputs": [
        {
          "output_type": "execute_result",
          "data": {
            "text/plain": [
              "[1, 2, 3, 10, 20, 30]"
            ]
          },
          "metadata": {},
          "execution_count": 63
        }
      ]
    },
    {
      "cell_type": "code",
      "source": [
        "\"1\"+'3'"
      ],
      "metadata": {
        "colab": {
          "base_uri": "https://localhost:8080/",
          "height": 35
        },
        "id": "shsU3A_l6Z2U",
        "outputId": "38cbd261-ad38-483d-d101-3090eae26f38"
      },
      "execution_count": 64,
      "outputs": [
        {
          "output_type": "execute_result",
          "data": {
            "text/plain": [
              "'13'"
            ],
            "application/vnd.google.colaboratory.intrinsic+json": {
              "type": "string"
            }
          },
          "metadata": {},
          "execution_count": 64
        }
      ]
    },
    {
      "cell_type": "code",
      "source": [
        "# 여러개의 값을 다루지만 약간 다른 스타일 : Dict\n",
        "# ==> 파이썬으로 코테를 할때 유용한 자료형\n",
        "# ==> 기본 틀 {키:값, 키:값 ,,,,}\n",
        "# 미니 데이터 베이스"
      ],
      "metadata": {
        "id": "h99wHgrZ6m99"
      },
      "execution_count": 65,
      "outputs": []
    },
    {
      "cell_type": "code",
      "source": [
        "a_dict = {\"a\":1234 , \"b\":5678}\n",
        "a_dict[0]"
      ],
      "metadata": {
        "colab": {
          "base_uri": "https://localhost:8080/",
          "height": 164
        },
        "id": "4QhydUCn7N8K",
        "outputId": "f9a5ad23-69a5-4a2d-8186-5f08d891952f"
      },
      "execution_count": 68,
      "outputs": [
        {
          "output_type": "error",
          "ename": "KeyError",
          "evalue": "0",
          "traceback": [
            "\u001b[0;31m---------------------------------------------------------------------------\u001b[0m",
            "\u001b[0;31mKeyError\u001b[0m                                  Traceback (most recent call last)",
            "\u001b[0;32m<ipython-input-68-df5b39147c87>\u001b[0m in \u001b[0;36m<cell line: 2>\u001b[0;34m()\u001b[0m\n\u001b[1;32m      1\u001b[0m \u001b[0ma_dict\u001b[0m \u001b[0;34m=\u001b[0m \u001b[0;34m{\u001b[0m\u001b[0;34m\"a\"\u001b[0m\u001b[0;34m:\u001b[0m\u001b[0;36m1234\u001b[0m \u001b[0;34m,\u001b[0m \u001b[0;34m\"b\"\u001b[0m\u001b[0;34m:\u001b[0m\u001b[0;36m5678\u001b[0m\u001b[0;34m}\u001b[0m\u001b[0;34m\u001b[0m\u001b[0;34m\u001b[0m\u001b[0m\n\u001b[0;32m----> 2\u001b[0;31m \u001b[0ma_dict\u001b[0m\u001b[0;34m[\u001b[0m\u001b[0;36m0\u001b[0m\u001b[0;34m]\u001b[0m\u001b[0;34m\u001b[0m\u001b[0;34m\u001b[0m\u001b[0m\n\u001b[0m",
            "\u001b[0;31mKeyError\u001b[0m: 0"
          ]
        }
      ]
    },
    {
      "cell_type": "code",
      "source": [
        "a_dict[\"a\"]"
      ],
      "metadata": {
        "colab": {
          "base_uri": "https://localhost:8080/"
        },
        "id": "wfz9v-X67NN5",
        "outputId": "324201d9-bb9c-4f63-c63b-68ecdffd1e8e"
      },
      "execution_count": 69,
      "outputs": [
        {
          "output_type": "execute_result",
          "data": {
            "text/plain": [
              "1234"
            ]
          },
          "metadata": {},
          "execution_count": 69
        }
      ]
    },
    {
      "cell_type": "code",
      "source": [
        "type(a_dict)"
      ],
      "metadata": {
        "colab": {
          "base_uri": "https://localhost:8080/"
        },
        "id": "cbSVTdFd7qh9",
        "outputId": "5f6f0308-f15a-483d-cc7d-08996b5beef9"
      },
      "execution_count": 70,
      "outputs": [
        {
          "output_type": "execute_result",
          "data": {
            "text/plain": [
              "dict"
            ]
          },
          "metadata": {},
          "execution_count": 70
        }
      ]
    },
    {
      "cell_type": "code",
      "source": [
        "a_dict.keys()"
      ],
      "metadata": {
        "colab": {
          "base_uri": "https://localhost:8080/"
        },
        "id": "uNoJjN5h7wq6",
        "outputId": "a5102916-1610-4cda-c67d-26273db6b57b"
      },
      "execution_count": 71,
      "outputs": [
        {
          "output_type": "execute_result",
          "data": {
            "text/plain": [
              "dict_keys(['a', 'b'])"
            ]
          },
          "metadata": {},
          "execution_count": 71
        }
      ]
    },
    {
      "cell_type": "code",
      "source": [
        "a_dict.values()"
      ],
      "metadata": {
        "colab": {
          "base_uri": "https://localhost:8080/"
        },
        "id": "1hrgBeuB77b1",
        "outputId": "febaed04-fb17-4b1b-a7f0-511086df678a"
      },
      "execution_count": 72,
      "outputs": [
        {
          "output_type": "execute_result",
          "data": {
            "text/plain": [
              "dict_values([1234, 5678])"
            ]
          },
          "metadata": {},
          "execution_count": 72
        }
      ]
    },
    {
      "cell_type": "code",
      "source": [
        "# ++dict 에서 한번 쌍을 다 같이 돌리고 싶다면\n",
        "# dict.items() 매서드 + for    :키+값"
      ],
      "metadata": {
        "id": "212vRIZF8JOh"
      },
      "execution_count": 73,
      "outputs": []
    },
    {
      "cell_type": "code",
      "source": [
        "#list : enimerate() 함수 + for :  정수 인텍스 + 값"
      ],
      "metadata": {
        "id": "zCvV3hO48Uhr"
      },
      "execution_count": 74,
      "outputs": []
    },
    {
      "cell_type": "code",
      "source": [
        "# 참고) set\n",
        "{11,1,1,2,2,2,2,2,3,3,33,33,3,2,2}"
      ],
      "metadata": {
        "colab": {
          "base_uri": "https://localhost:8080/"
        },
        "id": "W4e3CnC48iid",
        "outputId": "c2dee676-657f-4915-c6e9-9db0b9d3de65"
      },
      "execution_count": 75,
      "outputs": [
        {
          "output_type": "execute_result",
          "data": {
            "text/plain": [
              "{1, 2, 3, 11, 33}"
            ]
          },
          "metadata": {},
          "execution_count": 75
        }
      ]
    },
    {
      "cell_type": "code",
      "source": [
        "aa = {11,1,1,2,2,2,2,2,3,3,33,33,3,2,2}"
      ],
      "metadata": {
        "id": "zUxTve0j8m6_"
      },
      "execution_count": 76,
      "outputs": []
    },
    {
      "cell_type": "code",
      "source": [
        "##set은 정수 인덱스를 기반으로 하는게 먹히지 않음\n",
        "# 이때는 list로 바꿔서 하면 됨"
      ],
      "metadata": {
        "id": "2fKu9E3m8uxr"
      },
      "execution_count": 77,
      "outputs": []
    },
    {
      "cell_type": "code",
      "source": [
        "# 리스트(정수인덱스, 슬라이싱)~~튜플\n",
        "# 문자열\n",
        "#Dict\n",
        "#set(집합 : 중복은 제거를 함)"
      ],
      "metadata": {
        "id": "B70rGeKD87He"
      },
      "execution_count": 78,
      "outputs": []
    },
    {
      "cell_type": "code",
      "source": [
        "# 조건문 : if\n",
        "# ==> 수학에서의 분할의 개념으로 겹치지 않고 명확하게"
      ],
      "metadata": {
        "id": "8pg__IaV-ViQ"
      },
      "execution_count": 79,
      "outputs": []
    },
    {
      "cell_type": "code",
      "source": [
        "#  ex) 양수/음수 판단\n",
        "a = -5\n",
        "if a>0 :\n",
        "  #위의 조건이 만족할 때 뭐할지를 기술(tab으로 들여써서)\n",
        "  print(\"a is positive\")\n",
        "else :\n",
        "  print(\"a is zero or negative\")"
      ],
      "metadata": {
        "colab": {
          "base_uri": "https://localhost:8080/"
        },
        "id": "fA5xEZGk-eIz",
        "outputId": "beb23099-1843-4cac-d16d-b79c04c5f686"
      },
      "execution_count": 82,
      "outputs": [
        {
          "output_type": "stream",
          "name": "stdout",
          "text": [
            "a is zero or negative\n"
          ]
        }
      ]
    },
    {
      "cell_type": "code",
      "source": [
        "a = 10\n",
        "if a>0 :\n",
        "  #위의 조건이 만족할 때 뭐할지를 기술(tab으로 들여써서)\n",
        "  print(\"a is positive\")\n",
        "elif a==0:\n",
        "  print( a = 0)\n",
        "else :\n",
        "  print(\"a is negative\")\n"
      ],
      "metadata": {
        "colab": {
          "base_uri": "https://localhost:8080/"
        },
        "id": "bIvYZljs-3Yq",
        "outputId": "65d75ef2-aa0c-40dd-ee9a-d3dba7381fb6"
      },
      "execution_count": 84,
      "outputs": [
        {
          "output_type": "stream",
          "name": "stdout",
          "text": [
            "a is positive\n"
          ]
        }
      ]
    },
    {
      "cell_type": "code",
      "source": [
        "#일반적일 코드작성에서는 else를 쓰는 것을 추천하지만 코테에서는 else 안쓰는 경우가 많음"
      ],
      "metadata": {
        "id": "DVoN5MgW_YSr"
      },
      "execution_count": null,
      "outputs": []
    }
  ]
}