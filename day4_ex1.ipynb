{
  "nbformat": 4,
  "nbformat_minor": 0,
  "metadata": {
    "colab": {
      "provenance": [],
      "authorship_tag": "ABX9TyO+MMu6aBz0LyfVjrFW/+6P",
      "include_colab_link": true
    },
    "kernelspec": {
      "name": "python3",
      "display_name": "Python 3"
    },
    "language_info": {
      "name": "python"
    }
  },
  "cells": [
    {
      "cell_type": "markdown",
      "metadata": {
        "id": "view-in-github",
        "colab_type": "text"
      },
      "source": [
        "<a href=\"https://colab.research.google.com/github/Seungyeon-04/Start/blob/main/day4_ex1.ipynb\" target=\"_parent\"><img src=\"https://colab.research.google.com/assets/colab-badge.svg\" alt=\"Open In Colab\"/></a>"
      ]
    },
    {
      "cell_type": "code",
      "execution_count": null,
      "metadata": {
        "id": "NRgK5Br94idQ"
      },
      "outputs": [],
      "source": [
        "## 주제 : 구현\n",
        "# ---> 주어진 문제들을 코드로 작성하는 것이 핵심!\n",
        "#      (특별한 알고리즘을 적용하지 않는 유형)\n",
        "# ---> 평면상에서 이동 (다양한 주제에서 사용이 됨) (탐색, 최단거리...etc)"
      ]
    },
    {
      "cell_type": "markdown",
      "source": [
        "https://velog.io/@sugenius77/이것이-코딩-테스트다-with-파이썬-구현-상하좌우"
      ],
      "metadata": {
        "id": "M_98t9xV8way"
      }
    },
    {
      "cell_type": "code",
      "source": [
        "#문제상항\n",
        "# 1) 좌표를 도입이 편함 (문제 설정에 맞게\n",
        "# 2) N크기의 정사각형 도메인 (N,N)\n",
        "# 3) 이동에 대한 4가지 종류 : LRUD\n",
        "#   L(x,y-1), R(x,y+1), U(x-1,y), D(x+1,y)\n",
        "# 4) 전체흐름 --> 입력으로 주어지는 지시사항들 수행해야 함 => for\n",
        "#                => 체크 : 지시사항대로 움직인다면in/out 체크 ==> if\n",
        "#             --> 위의 지시사항을 다 하고 맨 마지막에 있는 나의 위치 출력"
      ],
      "metadata": {
        "id": "iytz7uMv8xka"
      },
      "execution_count": 1,
      "outputs": []
    },
    {
      "cell_type": "code",
      "source": [
        "# ===> LRUD 에 대한 코드화 작업 (임의의 위치에 있을 때)\n",
        "#       L(x,y-1), R(x,y+1), U(x-1,y), D(x+1,y)\n",
        "# (x,y) ===> L : (x,y)+(0,-1) = (x+0,y-1)\n",
        "#             ......"
      ],
      "metadata": {
        "id": "d_IEISjA_INw"
      },
      "execution_count": 2,
      "outputs": []
    },
    {
      "cell_type": "code",
      "source": [
        "# style1) 이동에 대한 부분을 dict로 구현\n",
        "move_dict = {\n",
        "    \"L\":[0,-1],\n",
        "    \"R\":[0,1],\n",
        "    \"U\":[-1,0],\n",
        "    \"D\":[1,0]\n",
        "}\n",
        "move_dict[\"R\"]"
      ],
      "metadata": {
        "colab": {
          "base_uri": "https://localhost:8080/"
        },
        "id": "uSbrU9Od_vNf",
        "outputId": "94b63a31-992d-45bd-959f-147002a9ff46"
      },
      "execution_count": 3,
      "outputs": [
        {
          "output_type": "execute_result",
          "data": {
            "text/plain": [
              "[0, 1]"
            ]
          },
          "metadata": {},
          "execution_count": 3
        }
      ]
    },
    {
      "cell_type": "code",
      "source": [
        "# wlrma (3,4)에서 R의 지시사항을 받아서 이동한다면 어디로 갈까?\n",
        "print([3,4]+move_dict[\"R\"])"
      ],
      "metadata": {
        "colab": {
          "base_uri": "https://localhost:8080/"
        },
        "id": "fEj0nf35AMYC",
        "outputId": "cf284a74-5643-4712-f41f-45f89fc88632"
      },
      "execution_count": 7,
      "outputs": [
        {
          "output_type": "stream",
          "name": "stdout",
          "text": [
            "[3, 4, 0, 1]\n"
          ]
        }
      ]
    },
    {
      "cell_type": "code",
      "source": [
        "#index 고정해서 하고 싶을 때\n",
        "move_types = [\"L\",\"R\",\"U\",\"D\"]\n",
        "dx = [0,0,-1,1]\n",
        "dy = [-1,1,0,0]\n",
        "idx = 1\n",
        "print(move_types[idx])\n",
        "print(dx[idx])\n",
        "print(dy[idx])"
      ],
      "metadata": {
        "colab": {
          "base_uri": "https://localhost:8080/"
        },
        "id": "_7EC1lDLAkek",
        "outputId": "985d3dfc-a50d-47cb-b1c9-e2b3ddc1e553"
      },
      "execution_count": 8,
      "outputs": [
        {
          "output_type": "stream",
          "name": "stdout",
          "text": [
            "R\n",
            "0\n",
            "1\n"
          ]
        }
      ]
    },
    {
      "cell_type": "code",
      "source": [
        "idx = 1 # R 지시사항의 순서\n",
        "3+dx[idx], 4+dy[idx]"
      ],
      "metadata": {
        "colab": {
          "base_uri": "https://localhost:8080/"
        },
        "id": "qPLTMcn8BYhm",
        "outputId": "3c2c837a-6e73-4165-97fd-a5adcdaececb"
      },
      "execution_count": 10,
      "outputs": [
        {
          "output_type": "execute_result",
          "data": {
            "text/plain": [
              "(3, 5)"
            ]
          },
          "metadata": {},
          "execution_count": 10
        }
      ]
    },
    {
      "cell_type": "code",
      "source": [
        "# 참고) [\"L\",\"R\",\"U\",\"D\"] 원하는 리스트에서 값을 중심으로 그 값의 위치 인덱스를 찾는 기능 : 파이썬 ->리스트 -> 메서드\n",
        "# 주의!! 중복된 원소가 잇따면 가장 앞에 있는 위치만 리턴\n",
        "[\"L\",\"R\",\"U\",\"D\"].index(\"R\")"
      ],
      "metadata": {
        "colab": {
          "base_uri": "https://localhost:8080/"
        },
        "id": "ijCY60H5Bj_A",
        "outputId": "42b2763c-1acd-4106-a0a2-a1dbad327311"
      },
      "execution_count": 11,
      "outputs": [
        {
          "output_type": "execute_result",
          "data": {
            "text/plain": [
              "1"
            ]
          },
          "metadata": {},
          "execution_count": 11
        }
      ]
    },
    {
      "cell_type": "code",
      "source": [
        "n = int(input(\"N값을 입력\"))\n",
        "x = 1\n",
        "y = 1\n",
        "move_dict = {\n",
        "    \"L\":[0,-1],\n",
        "    \"R\":[0,1],\n",
        "    \"U\":[-1,0],\n",
        "    \"D\":[1,0]\n",
        "}\n",
        "\n",
        "insert_key = input(\"경로  입력\")\n",
        "print(insert_key)\n",
        "for i in insert_key :\n",
        "  x += move_dict[i][0]\n",
        "  y += move_dict[i][1]\n",
        "  if x<1 or x>n or y<1 or y>n :\n",
        "    x = x - move_dict[i][0]\n",
        "    y = y - move_dict[i][1]\n",
        "  else :\n",
        "    pass\n",
        "\n",
        "print(x,y)"
      ],
      "metadata": {
        "colab": {
          "base_uri": "https://localhost:8080/"
        },
        "id": "Ji98Pb2ICLqK",
        "outputId": "bf888be1-c525-417d-f0e6-6fc506ccc882"
      },
      "execution_count": 20,
      "outputs": [
        {
          "output_type": "stream",
          "name": "stdout",
          "text": [
            "N값을 입력20\n",
            "경로  입력RRDDUU\n",
            "RRDDUU\n",
            "1 3\n"
          ]
        }
      ]
    },
    {
      "cell_type": "code",
      "source": [
        "##예시 답안\n",
        "# dict Style1 사용해서\n",
        "n = 5\n",
        "plans = [\"R\",\"R\",\"R\",\"U\",\"D\",\"D\"]\n",
        "\n",
        "#2) 문제상황 & 초기값에 대한 세팅\n",
        "# ==> 내가 지금 어디에 있는지 (x,y)\n",
        "x,y = 1,1\n",
        "#3) LRUD이동에 대한 세팅 : dict/ list / etc ...\n",
        "\n",
        "#4) 주어진 입력에 대해서 수행하는 코드\n",
        "#               --> 해당 plan으로 좌표를 이동해봐서\n",
        "#               --> if 인/아웃 판별\n",
        "move_dict = {\n",
        "    \"L\":[0,-1],\n",
        "    \"R\":[0,1],\n",
        "    \"U\":[-1,0],\n",
        "    \"D\":[1,0]\n",
        "}\n",
        "for plan in plans: # 지시사항들을 롤링!!!!\n",
        "    next_x = x + move_dict[plan][0]\n",
        "    next_y = y + move_dict[plan][1]\n",
        "    if next_x < 1 or next_x >n or next_y < 1 or next_y > n:\n",
        "        continue\n",
        "    else:\n",
        "        x, y = next_x, next_y\n",
        "print(x,y)"
      ],
      "metadata": {
        "colab": {
          "base_uri": "https://localhost:8080/"
        },
        "id": "VIdEbGI9FDmQ",
        "outputId": "1b6a0d37-5ec0-4763-a1b8-1f173ca291e5"
      },
      "execution_count": 32,
      "outputs": [
        {
          "output_type": "stream",
          "name": "stdout",
          "text": [
            ",R\n",
            "{'L': [0, -1], 'R': [0, 1], 'U': [-1, 0], 'D': [1, 0]}\n",
            "3 4\n"
          ]
        }
      ]
    },
    {
      "cell_type": "code",
      "source": [
        "# 예시답안 리스트로\n",
        "# 동일한 방법인데,,,,리스트로 해보자!!!!\n",
        "n = 5\n",
        "plans = [\"R\",\"R\",\"R\",\"U\",\"D\",\"D\"]\n",
        "###################\n",
        "x,y = 1,1\n",
        "# move_dict = { \"L\":[0, -1],\"R\":[0,1],\"U\":[-1,0], \"D\":[1,0] }\n",
        "move_type = [\"L\",\"R\",\"U\",\"D\"]\n",
        "dx =        [0,0,-1,1]\n",
        "dy =        [-1,1,0,0]\n",
        "\n",
        "for plan in plans:\n",
        "  #지시사항에 대한 정수 인덱스 찾아야 함\n",
        "  #m1) .index()\n",
        "  #m2) 그냥 for문으로 돌리기\n",
        "  for i in range(len(move_types)):\n",
        "    if plan == move_types[i]:\n",
        "      next_x = x+dx[i]\n",
        "      next_y = y+dy[i]\n",
        "##index 활용한 코드\n",
        "#  i = move_types.index(plan)\n",
        "#  next_x = x+dx[i]\n",
        "#  next_y = y+dy[i]\n",
        "  if next_x < 1 or next_x >n or next_y < 1 or next_y > n:\n",
        "        continue\n",
        "  else:\n",
        "        x, y = next_x, next_y\n",
        "print(x,y)"
      ],
      "metadata": {
        "colab": {
          "base_uri": "https://localhost:8080/"
        },
        "id": "ci96QqNNKPqG",
        "outputId": "6bd3c002-75d1-4ebd-869c-82800f8cab6f"
      },
      "execution_count": 37,
      "outputs": [
        {
          "output_type": "stream",
          "name": "stdout",
          "text": [
            "3 4\n"
          ]
        }
      ]
    },
    {
      "cell_type": "code",
      "source": [
        "# 1. 문제 상황을 이해 + 분석\n",
        "# 2.  문제 주어진 조건, 상황들을 어떻게 표현하는지 구상\n",
        "#     => 파이썬의 자료형, 세팅\n",
        "#     => 세팅/자료형에 맞는 표현/규칙\n",
        "# 3. 코드의 큰 틀을 생각하며 하나씩 세팅\n",
        "#    + 코드 런해가며 수정\n",
        "#    + 파이썬의 다양한 기능을 알면 편함\n",
        "# 4. 평면상의 움직을 표현할 때 -> 좌표 사용\n",
        "#   좌표도입 => 숫자표현 => 수식으로 규칙이나 룰을 기술하기 용이함"
      ],
      "metadata": {
        "id": "q851pswfMz-u"
      },
      "execution_count": null,
      "outputs": []
    }
  ]
}