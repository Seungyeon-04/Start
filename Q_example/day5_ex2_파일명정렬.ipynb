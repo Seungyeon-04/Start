{
  "nbformat": 4,
  "nbformat_minor": 0,
  "metadata": {
    "colab": {
      "provenance": [],
      "authorship_tag": "ABX9TyPZxFtctRJ0RaMj48JvSNnU",
      "include_colab_link": true
    },
    "kernelspec": {
      "name": "python3",
      "display_name": "Python 3"
    },
    "language_info": {
      "name": "python"
    }
  },
  "cells": [
    {
      "cell_type": "markdown",
      "metadata": {
        "id": "view-in-github",
        "colab_type": "text"
      },
      "source": [
        "<a href=\"https://colab.research.google.com/github/Seungyeon-04/Start/blob/main/Q_example/day5_ex2_%ED%8C%8C%EC%9D%BC%EB%AA%85%EC%A0%95%EB%A0%AC.ipynb\" target=\"_parent\"><img src=\"https://colab.research.google.com/assets/colab-badge.svg\" alt=\"Open In Colab\"/></a>"
      ]
    },
    {
      "cell_type": "code",
      "execution_count": 12,
      "metadata": {
        "colab": {
          "base_uri": "https://localhost:8080/"
        },
        "id": "0GS0u_LSLcOm",
        "outputId": "6a3f5a9a-7821-4ac9-c647-ff0042b3808e"
      },
      "outputs": [
        {
          "output_type": "stream",
          "name": "stdout",
          "text": [
            "['img12.png', 'img10.png', 'img02.png', 'img1.png', 'IMG01.GIF', 'img2.JPG']\n",
            ".\n",
            ".\n",
            ".\n",
            ".\n",
            ".\n",
            ".\n"
          ]
        },
        {
          "output_type": "execute_result",
          "data": {
            "text/plain": [
              "[]"
            ]
          },
          "metadata": {},
          "execution_count": 12
        }
      ],
      "source": [
        "def solution(files):\n",
        "    print(files)\n",
        "    for i in files:\n",
        "      for ii in i:\n",
        "        if ii == \".\":\n",
        "          head_number = i[:]\n",
        "    answer = []\n",
        "    return answer\n",
        "solution([\"img12.png\", \"img10.png\", \"img02.png\", \"img1.png\", \"IMG01.GIF\", \"img2.JPG\"])"
      ]
    },
    {
      "cell_type": "code",
      "source": [
        "#1 필요한 정보 추출 : head, number, 원본순서\n",
        "# \"img12.png\" : img, 12, 0   (6)\n",
        "# \"img10.png\" : img, 10, 1   (5)\n",
        "# \"img02.png\" : img, 02, 2   (3)\n",
        "# \"img1.png\"  : img,  1, 3   (1)\n",
        "# \"IMG01.GIF\" : IMG, 01, 4   (2)\n",
        "# \"img2.JPG\"  : img,  2, 5   (4)\n",
        "\n"
      ],
      "metadata": {
        "id": "gzEy-jIjLngk"
      },
      "execution_count": 13,
      "outputs": []
    },
    {
      "cell_type": "code",
      "source": [
        "# 정렬을 하기 위한 필요한 정보들을 추출하는 과정에서 규칙 찾아야함\n",
        "# ==> 기준 : 파일명 속에서 처음 나타나는 숫자\n",
        "#     기준앞 : head\n",
        "#     기준 : number\n",
        "# ==> 문자열에 대한 규칙화 문법 : 정규식\n",
        "#     파이썬의 잡다한 문자열에 대한 기능(메서드) / 리스트"
      ],
      "metadata": {
        "id": "glldeG4-VjSu"
      },
      "execution_count": 15,
      "outputs": []
    },
    {
      "cell_type": "code",
      "source": [
        "# 사전지식1) 정규식\n",
        "# 목적 : 문자열 내에서 내가 원하는 패턴을 찾는 룰\n",
        "# ---> 일반적인 모든 언어들에 대해서 다 존재를 함\n",
        "#      큰 틀에서 거의 유사함\n",
        "# ---> 파이썬 : re패키지 (코테플랫폼 : 기본으로 사용할 수 있는 패키지)\n"
      ],
      "metadata": {
        "id": "v-0bJE7JWCf4"
      },
      "execution_count": 16,
      "outputs": []
    },
    {
      "cell_type": "code",
      "source": [
        "import re\n",
        "# ==>anaconde 패키지 버전에서도 기본으로 설치가되는 패키지\n",
        "#    colab에서도 기본적인 패키지"
      ],
      "metadata": {
        "id": "gvHpwmaWWhHi"
      },
      "execution_count": 17,
      "outputs": []
    },
    {
      "cell_type": "code",
      "source": [
        "#정규식의 규칙으로 작성된 문자열 vs 쌩 파이썬의 문자열\n",
        "\"hello. 100$\" # -- 일반적인 문자열\n",
        "r\"hello. 100$\" # -- 일반적인 문자열 앞에서 r\n",
        "# --> 일반 문자열이 아니라 정규식으로 작성된 문자열\n"
      ],
      "metadata": {
        "colab": {
          "base_uri": "https://localhost:8080/",
          "height": 35
        },
        "id": "hhjej2cfXaMx",
        "outputId": "dc808edf-7c52-4d7e-8dab-1a0f239b3ae9"
      },
      "execution_count": 18,
      "outputs": [
        {
          "output_type": "execute_result",
          "data": {
            "text/plain": [
              "'hello. 100$'"
            ],
            "application/vnd.google.colaboratory.intrinsic+json": {
              "type": "string"
            }
          },
          "metadata": {},
          "execution_count": 18
        }
      ]
    },
    {
      "cell_type": "code",
      "source": [
        "#정규식 기본 틀\n",
        "# * vs + : 원하는 패턴 0번 이상 vs 원하는 패턴 1번 이상 ==> 출현빈도\n",
        "# [문자들] : 여러개들 중에서 하나라도... ==> [Pp]ython\n"
      ],
      "metadata": {
        "id": "EZ3tSVNzXzGs"
      },
      "execution_count": 19,
      "outputs": []
    },
    {
      "cell_type": "code",
      "source": [
        "[123456789]\n",
        "[0-9]\n",
        "\\d"
      ],
      "metadata": {
        "colab": {
          "base_uri": "https://localhost:8080/",
          "height": 110
        },
        "id": "Sou_-eAwdZSM",
        "outputId": "c8aa5165-1b21-47b3-8a9d-ff391a94d09e"
      },
      "execution_count": 20,
      "outputs": [
        {
          "output_type": "error",
          "ename": "SyntaxError",
          "evalue": "unexpected character after line continuation character (<ipython-input-20-2a9641f73857>, line 3)",
          "traceback": [
            "\u001b[0;36m  File \u001b[0;32m\"<ipython-input-20-2a9641f73857>\"\u001b[0;36m, line \u001b[0;32m3\u001b[0m\n\u001b[0;31m    \\d\u001b[0m\n\u001b[0m     ^\u001b[0m\n\u001b[0;31mSyntaxError\u001b[0m\u001b[0;31m:\u001b[0m unexpected character after line continuation character\n"
          ]
        }
      ]
    },
    {
      "cell_type": "code",
      "source": [
        "# 정규식을 특정 패턴에 대해서 찾을 때 사용 ===> findall\n",
        "#re.findall( 패턴 --> 규칙 (정규식룰))\n",
        "temp = \"sfdfskfslfsjlfsjffsfefoe304tjp__\"\n",
        "# ex) 찾을 규칙 : 숫자 한개로 이루어진 것들을 다 찾고 싶을 때\n",
        "re.findall( r\"\\d\",temp)"
      ],
      "metadata": {
        "colab": {
          "base_uri": "https://localhost:8080/"
        },
        "id": "ggpgejbmdgxb",
        "outputId": "dc6e6daa-31a1-49bc-b10a-f68c73724a36"
      },
      "execution_count": 21,
      "outputs": [
        {
          "output_type": "execute_result",
          "data": {
            "text/plain": [
              "['3', '0', '4']"
            ]
          },
          "metadata": {},
          "execution_count": 21
        }
      ]
    },
    {
      "cell_type": "code",
      "source": [
        "# ex) 찾을 규칙 : 숫자 1개 이상으로 연결된 것들을 찾고 싶을 때\n",
        "re.findall(r\"\\d+\",temp)"
      ],
      "metadata": {
        "colab": {
          "base_uri": "https://localhost:8080/"
        },
        "id": "wYwhB4VGef3G",
        "outputId": "491b6d90-d972-4144-d47a-8ddb3a2b1a01"
      },
      "execution_count": 22,
      "outputs": [
        {
          "output_type": "execute_result",
          "data": {
            "text/plain": [
              "['304']"
            ]
          },
          "metadata": {},
          "execution_count": 22
        }
      ]
    },
    {
      "cell_type": "code",
      "source": [
        "re.findall(r\"\\d*\",temp) #공백문자열이 나옴 ==> 원하는 패턴이 찾아지는지 테스트 필요"
      ],
      "metadata": {
        "colab": {
          "base_uri": "https://localhost:8080/"
        },
        "id": "-zAORb7Ke3HZ",
        "outputId": "853f7a0a-baa5-4cdd-8457-8889d04fa9de"
      },
      "execution_count": 23,
      "outputs": [
        {
          "output_type": "execute_result",
          "data": {
            "text/plain": [
              "['',\n",
              " '',\n",
              " '',\n",
              " '',\n",
              " '',\n",
              " '',\n",
              " '',\n",
              " '',\n",
              " '',\n",
              " '',\n",
              " '',\n",
              " '',\n",
              " '',\n",
              " '',\n",
              " '',\n",
              " '',\n",
              " '',\n",
              " '',\n",
              " '',\n",
              " '',\n",
              " '',\n",
              " '',\n",
              " '',\n",
              " '',\n",
              " '304',\n",
              " '',\n",
              " '',\n",
              " '',\n",
              " '',\n",
              " '',\n",
              " '']"
            ]
          },
          "metadata": {},
          "execution_count": 23
        }
      ]
    },
    {
      "cell_type": "code",
      "source": [
        "re.findall(r\"[0123456789]+\",temp)"
      ],
      "metadata": {
        "colab": {
          "base_uri": "https://localhost:8080/"
        },
        "id": "EKS0MooFe_Qx",
        "outputId": "760d5c63-ebab-4032-fd59-d6e784e86cd6"
      },
      "execution_count": 24,
      "outputs": [
        {
          "output_type": "execute_result",
          "data": {
            "text/plain": [
              "['304']"
            ]
          },
          "metadata": {},
          "execution_count": 24
        }
      ]
    },
    {
      "cell_type": "code",
      "source": [
        "re.findall(r\"[0-9]+\",temp)"
      ],
      "metadata": {
        "colab": {
          "base_uri": "https://localhost:8080/"
        },
        "id": "YikshVkqfURo",
        "outputId": "0cddaabf-8f8d-440a-f913-b7c3cd720eac"
      },
      "execution_count": 25,
      "outputs": [
        {
          "output_type": "execute_result",
          "data": {
            "text/plain": [
              "['304']"
            ]
          },
          "metadata": {},
          "execution_count": 25
        }
      ]
    },
    {
      "cell_type": "code",
      "source": [
        "re.findall( r\"[3-4]+\",temp)"
      ],
      "metadata": {
        "colab": {
          "base_uri": "https://localhost:8080/"
        },
        "id": "UvK7C-fuffOZ",
        "outputId": "05fbe689-6c2a-4088-a01b-ed15c94b55d6"
      },
      "execution_count": 26,
      "outputs": [
        {
          "output_type": "execute_result",
          "data": {
            "text/plain": [
              "['3', '4']"
            ]
          },
          "metadata": {},
          "execution_count": 26
        }
      ]
    },
    {
      "cell_type": "code",
      "source": [
        "re.findall(r\"[a-z]+\",temp) # 소문자 1개 이상 연속된 패턴!!"
      ],
      "metadata": {
        "colab": {
          "base_uri": "https://localhost:8080/"
        },
        "id": "wl2Z5cVqfkcY",
        "outputId": "bd6b8d3d-b3b3-4d1b-99d6-ff2193583260"
      },
      "execution_count": 28,
      "outputs": [
        {
          "output_type": "execute_result",
          "data": {
            "text/plain": [
              "['sfdfskfslfsjlfsjffsfefoe', 'tjp']"
            ]
          },
          "metadata": {},
          "execution_count": 28
        }
      ]
    },
    {
      "cell_type": "code",
      "source": [
        "re.findall( r\"[A-Z]+\", temp) # 대문자 1개 이상 연속된 패턴"
      ],
      "metadata": {
        "colab": {
          "base_uri": "https://localhost:8080/"
        },
        "id": "JtKuuicufvlN",
        "outputId": "a250d844-7870-4be8-c19c-40406bef269d"
      },
      "execution_count": 29,
      "outputs": [
        {
          "output_type": "execute_result",
          "data": {
            "text/plain": [
              "[]"
            ]
          },
          "metadata": {},
          "execution_count": 29
        }
      ]
    },
    {
      "cell_type": "code",
      "source": [
        "# [ a-zA-Z] : 대소문자 다 가능\n",
        "# [A-z]     : 대소문자 다 가능 ([a-Z]는 수행되지 않음!)\n",
        "re.findall( r\"[a-zA-A]+\", temp)"
      ],
      "metadata": {
        "colab": {
          "base_uri": "https://localhost:8080/"
        },
        "id": "RH5i0F6gf7Mm",
        "outputId": "9bf3fc4f-083f-45ea-97bc-88209cd4bd35"
      },
      "execution_count": 31,
      "outputs": [
        {
          "output_type": "execute_result",
          "data": {
            "text/plain": [
              "['sfdfskfslfsjlfsjffsfefoe', 'tjp']"
            ]
          },
          "metadata": {},
          "execution_count": 31
        }
      ]
    },
    {
      "cell_type": "code",
      "source": [
        "# 사전지식2) 숫자 앞에 붙은 0 처리하는 방법\n",
        "# ===> 정렬을 하기 위해서는 0이 제거된 숫자 필요 (\"000023\"=> 23)\n",
        "# ===> int(\"000023\") -> 23 으로 전환됨"
      ],
      "metadata": {
        "id": "SMrVRxPegGOM"
      },
      "execution_count": 32,
      "outputs": []
    },
    {
      "cell_type": "code",
      "source": [
        "#사전 지식 1+2 사용하여 temp 처리하기\n",
        "temp = \"SSssdkfjslfijw23942lkfjsFDJ00923**flsjf99393222\"\n",
        "re.findall(r\"\\d+\", temp)"
      ],
      "metadata": {
        "colab": {
          "base_uri": "https://localhost:8080/"
        },
        "id": "XsRFlH80gztf",
        "outputId": "6e0de1e0-f4c4-41c9-b258-207875605900"
      },
      "execution_count": 34,
      "outputs": [
        {
          "output_type": "execute_result",
          "data": {
            "text/plain": [
              "['23942', '00923', '99393222']"
            ]
          },
          "metadata": {},
          "execution_count": 34
        }
      ]
    },
    {
      "cell_type": "code",
      "source": [
        "re.findall(r\"\\d+\", temp)[0] #-> number 파트 추출 가능"
      ],
      "metadata": {
        "colab": {
          "base_uri": "https://localhost:8080/",
          "height": 35
        },
        "id": "7EMXvOkLhJwP",
        "outputId": "a48b83ed-6fed-448b-c835-2955a679c0d1"
      },
      "execution_count": 37,
      "outputs": [
        {
          "output_type": "execute_result",
          "data": {
            "text/plain": [
              "'23942'"
            ],
            "application/vnd.google.colaboratory.intrinsic+json": {
              "type": "string"
            }
          },
          "metadata": {},
          "execution_count": 37
        }
      ]
    },
    {
      "cell_type": "code",
      "source": [
        "[1,3,3,3,2,4,5,6].index(4)"
      ],
      "metadata": {
        "colab": {
          "base_uri": "https://localhost:8080/"
        },
        "id": "8PDxaGLOhR4N",
        "outputId": "b1b1a842-fe24-4dce-e007-062133bba2ca"
      },
      "execution_count": 38,
      "outputs": [
        {
          "output_type": "execute_result",
          "data": {
            "text/plain": [
              "5"
            ]
          },
          "metadata": {},
          "execution_count": 38
        }
      ]
    },
    {
      "cell_type": "code",
      "source": [
        "temp.index('d')"
      ],
      "metadata": {
        "colab": {
          "base_uri": "https://localhost:8080/"
        },
        "id": "76qxrrNkhiX3",
        "outputId": "b1346678-755a-4f4d-a37c-dd8c5b26a238"
      },
      "execution_count": 39,
      "outputs": [
        {
          "output_type": "execute_result",
          "data": {
            "text/plain": [
              "4"
            ]
          },
          "metadata": {},
          "execution_count": 39
        }
      ]
    },
    {
      "cell_type": "code",
      "source": [
        "temp.index(re.findall(r\"\\d+\", temp)[0])"
      ],
      "metadata": {
        "colab": {
          "base_uri": "https://localhost:8080/"
        },
        "id": "AqepLEJMhqVE",
        "outputId": "7423c470-92bb-489c-ebe7-9868a9eb1538"
      },
      "execution_count": 41,
      "outputs": [
        {
          "output_type": "execute_result",
          "data": {
            "text/plain": [
              "14"
            ]
          },
          "metadata": {},
          "execution_count": 41
        }
      ]
    },
    {
      "cell_type": "code",
      "source": [
        "temp[:temp.index(re.findall(r\"\\d+\", temp)[0] )]"
      ],
      "metadata": {
        "colab": {
          "base_uri": "https://localhost:8080/",
          "height": 35
        },
        "id": "NA-y5mskh1sL",
        "outputId": "14bce533-bf0c-4625-f92f-5a40eaff222a"
      },
      "execution_count": 44,
      "outputs": [
        {
          "output_type": "execute_result",
          "data": {
            "text/plain": [
              "'SSssdkfjslfijw'"
            ],
            "application/vnd.google.colaboratory.intrinsic+json": {
              "type": "string"
            }
          },
          "metadata": {},
          "execution_count": 44
        }
      ]
    },
    {
      "cell_type": "code",
      "source": [
        "# 사전지식 3) 문자열 --> 정렬을 대소문자 동일하게 간주\n",
        "# -===> 문자열에서 대소문자에 대한 일괄 변환\n",
        "\"AAASfdsfgDDD\""
      ],
      "metadata": {
        "colab": {
          "base_uri": "https://localhost:8080/",
          "height": 35
        },
        "id": "K2LgXf2PiF57",
        "outputId": "34db9b1d-e7f4-42bd-b74c-4a90693eff4e"
      },
      "execution_count": 45,
      "outputs": [
        {
          "output_type": "execute_result",
          "data": {
            "text/plain": [
              "'AAASfdsfgDDD'"
            ],
            "application/vnd.google.colaboratory.intrinsic+json": {
              "type": "string"
            }
          },
          "metadata": {},
          "execution_count": 45
        }
      ]
    },
    {
      "cell_type": "code",
      "source": [
        "### 나의 풀이###\n",
        "def solution(files):\n",
        "    print(files)\n",
        "    file_list = []\n",
        "    for f_name in files:\n",
        "      headd = f_name[:f_name.index(re.findall(r\"\\d+\", f_name)[0])]\n",
        "      numberr = int(re.findall(r\"\\d+\", f_name)[0])\n",
        "      linee = files.index(f_name)\n",
        "      print(f_name)\n",
        "      print(linee)\n",
        "      file_list += [(f_name,headd.lower(),numberr,linee)]\n",
        "    print(file_list)\n",
        "    result = sorted(file_list, key = lambda x: (x[1],x[2],x[3]))\n",
        "    print(result)\n",
        "    answer = [x[0] for x in result]\n",
        "    return answer\n",
        "solution([\"img12.png\", \"img10.png\", \"img02.png\", \"img1.png\", \"IMG01.GIF\", \"img2.JPG\"])"
      ],
      "metadata": {
        "colab": {
          "base_uri": "https://localhost:8080/"
        },
        "id": "WAjQVtGli_WA",
        "outputId": "3d633a50-6ba3-42ed-df76-f7c474ceb6c9"
      },
      "execution_count": 74,
      "outputs": [
        {
          "output_type": "stream",
          "name": "stdout",
          "text": [
            "['img12.png', 'img10.png', 'img02.png', 'img1.png', 'IMG01.GIF', 'img2.JPG']\n",
            "img12.png\n",
            "0\n",
            "img10.png\n",
            "1\n",
            "img02.png\n",
            "2\n",
            "img1.png\n",
            "3\n",
            "IMG01.GIF\n",
            "4\n",
            "img2.JPG\n",
            "5\n",
            "[('img12.png', 'img', 12, 0), ('img10.png', 'img', 10, 1), ('img02.png', 'img', 2, 2), ('img1.png', 'img', 1, 3), ('IMG01.GIF', 'img', 1, 4), ('img2.JPG', 'img', 2, 5)]\n",
            "[('img1.png', 'img', 1, 3), ('IMG01.GIF', 'img', 1, 4), ('img02.png', 'img', 2, 2), ('img2.JPG', 'img', 2, 5), ('img10.png', 'img', 10, 1), ('img12.png', 'img', 12, 0)]\n"
          ]
        },
        {
          "output_type": "execute_result",
          "data": {
            "text/plain": [
              "['img1.png', 'IMG01.GIF', 'img02.png', 'img2.JPG', 'img10.png', 'img12.png']"
            ]
          },
          "metadata": {},
          "execution_count": 74
        }
      ]
    },
    {
      "cell_type": "markdown",
      "source": [
        "코드 위치 : https://school.programmers.co.kr/learn/courses/30/lessons/17686?language=python3"
      ],
      "metadata": {
        "id": "u_ZiFOVVqMw6"
      }
    },
    {
      "cell_type": "code",
      "source": [
        "## 강사님 solution - Dict를 활용한... ##\n",
        "# Try2) dict\n",
        "# ==> my_files ={}\n",
        "#     k : 중복이 없는 원본 파일명 -> 문제에서 중복 없는 조건\n",
        "#     v : 정렬에 필요한 정보(head, number, org_inx)\n",
        "# ==> 정렬의 기준? --> 오로지 value에 존재\n",
        "#     my_files.items(), my_files.values()....사용\n",
        "import re\n",
        "def solution(files):\n",
        "  answer=[]\n",
        "  #세팅\n",
        "  my_files = {} # k:파일명, v : (h,n,idx)\n",
        "  for idx, s in enumerate(files):\n",
        "    p = re.findall(r\"\\d+\",s)[0]\n",
        "    head = s[:s.index(p)].lower()\n",
        "    number = int(p)\n",
        "    my_files[s] = (head,number,idx)\n",
        "  file_list = my_files.items()\n",
        "  file_list = sorted(file_list, key = lambda x:(x[1][0],x[1][1],x[1],[2]))\n",
        "  answer = [i[0] for i in file_list]\n",
        "  return answer\n",
        "solution([\"img12.png\", \"img10.png\", \"img02.png\", \"img1.png\", \"IMG01.GIF\", \"img2.JPG\"])"
      ],
      "metadata": {
        "colab": {
          "base_uri": "https://localhost:8080/"
        },
        "id": "Njj1MLaVkaE5",
        "outputId": "7cb389e6-ac9b-4ab7-9c66-6e691441a215"
      },
      "execution_count": 86,
      "outputs": [
        {
          "output_type": "execute_result",
          "data": {
            "text/plain": [
              "['img1.png', 'IMG01.GIF', 'img02.png', 'img2.JPG', 'img10.png', 'img12.png']"
            ]
          },
          "metadata": {},
          "execution_count": 86
        }
      ]
    },
    {
      "cell_type": "code",
      "source": [],
      "metadata": {
        "colab": {
          "base_uri": "https://localhost:8080/"
        },
        "id": "vahdtsptrC02",
        "outputId": "1f4b94da-d77c-435c-8fa1-bbb3e987f0e2"
      },
      "execution_count": 85,
      "outputs": [
        {
          "output_type": "stream",
          "name": "stdout",
          "text": [
            "36\n"
          ]
        }
      ]
    },
    {
      "cell_type": "code",
      "source": [],
      "metadata": {
        "id": "XybAEj6SrFIV"
      },
      "execution_count": null,
      "outputs": []
    }
  ]
}