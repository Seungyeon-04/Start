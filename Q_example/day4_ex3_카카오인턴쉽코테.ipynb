{
  "nbformat": 4,
  "nbformat_minor": 0,
  "metadata": {
    "colab": {
      "provenance": [],
      "authorship_tag": "ABX9TyNSeAB8a/i3WNbBO62I7T9S",
      "include_colab_link": true
    },
    "kernelspec": {
      "name": "python3",
      "display_name": "Python 3"
    },
    "language_info": {
      "name": "python"
    }
  },
  "cells": [
    {
      "cell_type": "markdown",
      "metadata": {
        "id": "view-in-github",
        "colab_type": "text"
      },
      "source": [
        "<a href=\"https://colab.research.google.com/github/Seungyeon-04/Start/blob/main/Q_example/day4_ex3_%EC%B9%B4%EC%B9%B4%EC%98%A4%EC%9D%B8%ED%84%B4%EC%89%BD%EC%BD%94%ED%85%8C.ipynb\" target=\"_parent\"><img src=\"https://colab.research.google.com/assets/colab-badge.svg\" alt=\"Open In Colab\"/></a>"
      ]
    },
    {
      "cell_type": "code",
      "execution_count": 66,
      "metadata": {
        "id": "dfzqICTBcfIK"
      },
      "outputs": [],
      "source": []
    },
    {
      "cell_type": "code",
      "source": [
        "def solution(numbers, hand):\n",
        "    left_x,left_y = 1,4\n",
        "    right_x,right_y = 3,4\n",
        "    answer = ''\n",
        "    for i in numbers :\n",
        "        if i%3 == 1 :\n",
        "            left_x, left_y = 1 , i//3+1\n",
        "            answer += \"L\"\n",
        "        elif i%3 == 0 and i>0 :\n",
        "            right_x, right_y = 3, i//3\n",
        "            answer +=\"R\"\n",
        "        else:\n",
        "            now_x, now_y = 2,i//3+1\n",
        "            if i==0 :\n",
        "              now_y = 4\n",
        "            if (abs(now_x-left_x)+abs(now_y-left_y)) < (abs(now_x-right_x)+abs(now_y-right_y)):\n",
        "                left_x , left_y = now_x, now_y\n",
        "                answer += \"L\"\n",
        "            elif (abs(now_x-left_x)+abs(now_y-left_y)) > (abs(now_x-right_x)+abs(now_y-right_y)):\n",
        "                right_x, right_y = now_x, now_y\n",
        "                answer += \"R\"\n",
        "            elif  (abs(now_x-left_x)+abs(now_y-left_y)) == (abs(now_x-right_x)+abs(now_y-right_y)):\n",
        "                if hand ==\"left\":\n",
        "                    left_x , left_y = now_x, now_y\n",
        "                    answer += \"L\"\n",
        "                elif hand ==\"right\":\n",
        "                    right_x, right_y = now_x, now_y\n",
        "                    answer +=\"R\"\n",
        "    return answer"
      ],
      "metadata": {
        "id": "9EHQlbHRepCZ"
      },
      "execution_count": 67,
      "outputs": []
    },
    {
      "cell_type": "markdown",
      "source": [],
      "metadata": {
        "id": "OgWZYa1BtGtl"
      }
    },
    {
      "cell_type": "code",
      "source": [
        "solution([7, 0, 8, 2, 8, 3, 1, 5, 7, 6, 2], 'left')"
      ],
      "metadata": {
        "colab": {
          "base_uri": "https://localhost:8080/",
          "height": 35
        },
        "id": "reWvJxSglCiV",
        "outputId": "c7f43b7f-ead4-44b1-e929-05c20e71984a"
      },
      "execution_count": 68,
      "outputs": [
        {
          "output_type": "execute_result",
          "data": {
            "text/plain": [
              "'LRLLRRLLLRR'"
            ],
            "application/vnd.google.colaboratory.intrinsic+json": {
              "type": "string"
            }
          },
          "metadata": {},
          "execution_count": 68
        }
      ]
    },
    {
      "cell_type": "code",
      "source": [
        "4"
      ],
      "metadata": {
        "colab": {
          "base_uri": "https://localhost:8080/"
        },
        "id": "IrzRdKLAlweK",
        "outputId": "59921aab-564e-4559-e1a4-5937caa70aed"
      },
      "execution_count": 69,
      "outputs": [
        {
          "output_type": "execute_result",
          "data": {
            "text/plain": [
              "4"
            ]
          },
          "metadata": {},
          "execution_count": 69
        }
      ]
    },
    {
      "cell_type": "code",
      "source": [],
      "metadata": {
        "id": "SogzlTqCnS1b"
      },
      "execution_count": null,
      "outputs": []
    }
  ]
}