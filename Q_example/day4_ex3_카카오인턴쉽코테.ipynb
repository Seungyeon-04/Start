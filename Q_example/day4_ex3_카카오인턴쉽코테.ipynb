{
  "nbformat": 4,
  "nbformat_minor": 0,
  "metadata": {
    "colab": {
      "provenance": [],
      "authorship_tag": "ABX9TyNI5ZMjEfWZWnNAoc4zb7I8",
      "include_colab_link": true
    },
    "kernelspec": {
      "name": "python3",
      "display_name": "Python 3"
    },
    "language_info": {
      "name": "python"
    }
  },
  "cells": [
    {
      "cell_type": "markdown",
      "metadata": {
        "id": "view-in-github",
        "colab_type": "text"
      },
      "source": [
        "<a href=\"https://colab.research.google.com/github/Seungyeon-04/Start/blob/main/Q_example/day4_ex3_%EC%B9%B4%EC%B9%B4%EC%98%A4%EC%9D%B8%ED%84%B4%EC%89%BD%EC%BD%94%ED%85%8C.ipynb\" target=\"_parent\"><img src=\"https://colab.research.google.com/assets/colab-badge.svg\" alt=\"Open In Colab\"/></a>"
      ]
    },
    {
      "cell_type": "code",
      "execution_count": 38,
      "metadata": {
        "colab": {
          "base_uri": "https://localhost:8080/"
        },
        "id": "dfzqICTBcfIK",
        "outputId": "daf6bf2f-bb84-44c5-a5e3-5efc1d374a1e"
      },
      "outputs": [
        {
          "output_type": "stream",
          "name": "stdout",
          "text": [
            "L\n",
            "L\n",
            "L\n",
            "L\n",
            "L\n",
            "L\n",
            "L\n",
            "R\n",
            "R\n",
            "L\n"
          ]
        }
      ],
      "source": [
        "numbers = 1847362\n",
        "left_x,left_y = 1,4\n",
        "right_x,right_y = 3,4\n",
        "answer= []\n",
        "for i in str(numbers) :\n",
        "  if int(i)%3 == 1 :\n",
        "    left_x, left_y = 1 , int(i)//3+1\n",
        "  if int(i)%3 == 0 :\n",
        "    right_x, right_y = 3, int(i)//3\n",
        "  else:\n",
        "    now_x, now_y = 2,int(1)//3+1\n",
        "    if (abs(now_x-left_x)+abs(now_y-left_y)) < (abs(now_x-right_x)+abs(now_y-right_y)):\n",
        "      left_x , left_y = now_x, now_y\n",
        "      print(\"L\")\n",
        "    elif (abs(now_x-left_x)+abs(now_y-left_y)) > (abs(now_x-right_x)+abs(now_y-right_y)):\n",
        "      right_x, right_y = now_x, now_y\n",
        "      print(\"R\")\n",
        "    elif  (abs(now_x-left_x)+abs(now_y-left_y)) == (abs(now_x-right_x)+abs(now_y-right_y)):\n",
        "      if hand ==\"left\":\n",
        "        left_x , left_y = now_x, now_y\n",
        "        print(\"L\")\n",
        "      elif hand ==\"right\":\n",
        "        right_x, right_y = now_x, now_y\n",
        "        print(\"R\")\n"
      ]
    },
    {
      "cell_type": "code",
      "source": [
        "def solution(numbers, hand):\n",
        "    left_x,left_y = 1,4\n",
        "    right_x,right_y = 3,4\n",
        "    answer = ''\n",
        "    for i in numbers :\n",
        "        if i%3 == 1 :\n",
        "            left_x, left_y = 1 , i//3+1\n",
        "            answer += \"L\"\n",
        "        elif i%3 == 0 and i>0 :\n",
        "            right_x, right_y = 3, i//3\n",
        "            answer +=\"R\"\n",
        "        else:\n",
        "            now_x, now_y = 2,i//3+1\n",
        "            if i==0 :\n",
        "              now_y = 4\n",
        "            if (abs(now_x-left_x)+abs(now_y-left_y)) < (abs(now_x-right_x)+abs(now_y-right_y)):\n",
        "                left_x , left_y = now_x, now_y\n",
        "                answer += \"L\"\n",
        "            elif (abs(now_x-left_x)+abs(now_y-left_y)) > (abs(now_x-right_x)+abs(now_y-right_y)):\n",
        "                right_x, right_y = now_x, now_y\n",
        "                answer += \"R\"\n",
        "            elif  (abs(now_x-left_x)+abs(now_y-left_y)) == (abs(now_x-right_x)+abs(now_y-right_y)):\n",
        "                if hand ==\"left\":\n",
        "                    left_x , left_y = now_x, now_y\n",
        "                    answer += \"L\"\n",
        "                elif hand ==\"right\":\n",
        "                    right_x, right_y = now_x, now_y\n",
        "                    answer +=\"R\"\n",
        "        print(left_x,left_y)\n",
        "        print(right_x,right_y)\n",
        "        print(\"----\")\n",
        "    return answer"
      ],
      "metadata": {
        "id": "9EHQlbHRepCZ"
      },
      "execution_count": 65,
      "outputs": []
    },
    {
      "cell_type": "markdown",
      "source": [],
      "metadata": {
        "id": "OgWZYa1BtGtl"
      }
    },
    {
      "cell_type": "code",
      "source": [
        "solution([7, 0, 8, 2, 8, 3, 1, 5, 7, 6, 2], 'left')"
      ],
      "metadata": {
        "colab": {
          "base_uri": "https://localhost:8080/",
          "height": 634
        },
        "id": "reWvJxSglCiV",
        "outputId": "54466cdd-5b22-4a82-d36b-54637c207e52"
      },
      "execution_count": 66,
      "outputs": [
        {
          "output_type": "stream",
          "name": "stdout",
          "text": [
            "1 3\n",
            "3 4\n",
            "----\n",
            "1 3\n",
            "2 4\n",
            "----\n",
            "2 3\n",
            "2 4\n",
            "----\n",
            "2 1\n",
            "2 4\n",
            "----\n",
            "2 1\n",
            "2 3\n",
            "----\n",
            "2 1\n",
            "3 1\n",
            "----\n",
            "1 1\n",
            "3 1\n",
            "----\n",
            "2 2\n",
            "3 1\n",
            "----\n",
            "1 3\n",
            "3 1\n",
            "----\n",
            "1 3\n",
            "3 2\n",
            "----\n",
            "1 3\n",
            "2 1\n",
            "----\n"
          ]
        },
        {
          "output_type": "execute_result",
          "data": {
            "text/plain": [
              "'LRLLRRLLLRR'"
            ],
            "application/vnd.google.colaboratory.intrinsic+json": {
              "type": "string"
            }
          },
          "metadata": {},
          "execution_count": 66
        }
      ]
    },
    {
      "cell_type": "code",
      "source": [
        "4//3+1"
      ],
      "metadata": {
        "colab": {
          "base_uri": "https://localhost:8080/"
        },
        "id": "IrzRdKLAlweK",
        "outputId": "632b9c9f-f45f-436d-a447-c30b6e228687"
      },
      "execution_count": 29,
      "outputs": [
        {
          "output_type": "execute_result",
          "data": {
            "text/plain": [
              "2"
            ]
          },
          "metadata": {},
          "execution_count": 29
        }
      ]
    },
    {
      "cell_type": "code",
      "source": [],
      "metadata": {
        "id": "SogzlTqCnS1b"
      },
      "execution_count": null,
      "outputs": []
    }
  ]
}