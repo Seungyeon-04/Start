{
  "nbformat": 4,
  "nbformat_minor": 0,
  "metadata": {
    "colab": {
      "provenance": [],
      "authorship_tag": "ABX9TyMSa6UHVAEoNVi0kMrtIC7F",
      "include_colab_link": true
    },
    "kernelspec": {
      "name": "python3",
      "display_name": "Python 3"
    },
    "language_info": {
      "name": "python"
    }
  },
  "cells": [
    {
      "cell_type": "markdown",
      "metadata": {
        "id": "view-in-github",
        "colab_type": "text"
      },
      "source": [
        "<a href=\"https://colab.research.google.com/github/Seungyeon-04/Start/blob/main/Q_example/day5_ex1_%EC%B9%B4%EC%B9%B4%EC%98%A4%EC%8B%A4%ED%8C%A8%EC%9C%A8.ipynb\" target=\"_parent\"><img src=\"https://colab.research.google.com/assets/colab-badge.svg\" alt=\"Open In Colab\"/></a>"
      ]
    },
    {
      "cell_type": "markdown",
      "source": [
        "코드 경로 : https://school.programmers.co.kr/learn/courses/30/lessons/42889?language=python3"
      ],
      "metadata": {
        "id": "iQ_qET9kpzqn"
      }
    },
    {
      "cell_type": "code",
      "source": [],
      "metadata": {
        "id": "gpQBIrvzp5xA"
      },
      "execution_count": null,
      "outputs": []
    },
    {
      "cell_type": "code",
      "execution_count": 52,
      "metadata": {
        "id": "oDwh25ZwcUEf"
      },
      "outputs": [],
      "source": [
        "def solution(N, stages):\n",
        "\n",
        "    fool_list = []\n",
        "    levels = []\n",
        "    user = len(stages)\n",
        "    for i in range(1,N+1) :\n",
        "      count = 0\n",
        "      for ii in stages:\n",
        "        if ii<i+1 :\n",
        "          count += 1\n",
        "        print(i,ii,count)\n",
        "        fool = count/user\n",
        "      fool_list[i](1).append(fool)\n",
        "      fool_list[i](0).append(i)\n",
        "    answer = fool_list\n",
        "    return answer"
      ]
    },
    {
      "cell_type": "code",
      "source": [
        "solution(4,\t\t[4,4,4,4,4])"
      ],
      "metadata": {
        "colab": {
          "base_uri": "https://localhost:8080/",
          "height": 364
        },
        "id": "wPpK-lmxdXzn",
        "outputId": "2f0cfd93-a6f3-4c48-85ce-4a1e0bc60b9e"
      },
      "execution_count": 53,
      "outputs": [
        {
          "output_type": "stream",
          "name": "stdout",
          "text": [
            "1 4 0\n",
            "1 4 0\n",
            "1 4 0\n",
            "1 4 0\n",
            "1 4 0\n"
          ]
        },
        {
          "output_type": "error",
          "ename": "IndexError",
          "evalue": "list index out of range",
          "traceback": [
            "\u001b[0;31m---------------------------------------------------------------------------\u001b[0m",
            "\u001b[0;31mIndexError\u001b[0m                                Traceback (most recent call last)",
            "\u001b[0;32m<ipython-input-53-059d890c549b>\u001b[0m in \u001b[0;36m<cell line: 1>\u001b[0;34m()\u001b[0m\n\u001b[0;32m----> 1\u001b[0;31m \u001b[0msolution\u001b[0m\u001b[0;34m(\u001b[0m\u001b[0;36m4\u001b[0m\u001b[0;34m,\u001b[0m             \u001b[0;34m[\u001b[0m\u001b[0;36m4\u001b[0m\u001b[0;34m,\u001b[0m\u001b[0;36m4\u001b[0m\u001b[0;34m,\u001b[0m\u001b[0;36m4\u001b[0m\u001b[0;34m,\u001b[0m\u001b[0;36m4\u001b[0m\u001b[0;34m,\u001b[0m\u001b[0;36m4\u001b[0m\u001b[0;34m]\u001b[0m\u001b[0;34m)\u001b[0m\u001b[0;34m\u001b[0m\u001b[0;34m\u001b[0m\u001b[0m\n\u001b[0m",
            "\u001b[0;32m<ipython-input-52-a8d3e8928e13>\u001b[0m in \u001b[0;36msolution\u001b[0;34m(N, stages)\u001b[0m\n\u001b[1;32m     11\u001b[0m         \u001b[0mprint\u001b[0m\u001b[0;34m(\u001b[0m\u001b[0mi\u001b[0m\u001b[0;34m,\u001b[0m\u001b[0mii\u001b[0m\u001b[0;34m,\u001b[0m\u001b[0mcount\u001b[0m\u001b[0;34m)\u001b[0m\u001b[0;34m\u001b[0m\u001b[0;34m\u001b[0m\u001b[0m\n\u001b[1;32m     12\u001b[0m         \u001b[0mfool\u001b[0m \u001b[0;34m=\u001b[0m \u001b[0mcount\u001b[0m\u001b[0;34m/\u001b[0m\u001b[0muser\u001b[0m\u001b[0;34m\u001b[0m\u001b[0;34m\u001b[0m\u001b[0m\n\u001b[0;32m---> 13\u001b[0;31m       \u001b[0mfool_list\u001b[0m\u001b[0;34m[\u001b[0m\u001b[0mi\u001b[0m\u001b[0;34m]\u001b[0m\u001b[0;34m(\u001b[0m\u001b[0;36m1\u001b[0m\u001b[0;34m)\u001b[0m\u001b[0;34m.\u001b[0m\u001b[0mappend\u001b[0m\u001b[0;34m(\u001b[0m\u001b[0mfool\u001b[0m\u001b[0;34m)\u001b[0m\u001b[0;34m\u001b[0m\u001b[0;34m\u001b[0m\u001b[0m\n\u001b[0m\u001b[1;32m     14\u001b[0m       \u001b[0mfool_list\u001b[0m\u001b[0;34m[\u001b[0m\u001b[0mi\u001b[0m\u001b[0;34m]\u001b[0m\u001b[0;34m(\u001b[0m\u001b[0;36m0\u001b[0m\u001b[0;34m)\u001b[0m\u001b[0;34m.\u001b[0m\u001b[0mappend\u001b[0m\u001b[0;34m(\u001b[0m\u001b[0mi\u001b[0m\u001b[0;34m)\u001b[0m\u001b[0;34m\u001b[0m\u001b[0;34m\u001b[0m\u001b[0m\n\u001b[1;32m     15\u001b[0m     \u001b[0manswer\u001b[0m \u001b[0;34m=\u001b[0m \u001b[0mfool_list\u001b[0m\u001b[0;34m\u001b[0m\u001b[0;34m\u001b[0m\u001b[0m\n",
            "\u001b[0;31mIndexError\u001b[0m: list index out of range"
          ]
        }
      ]
    },
    {
      "cell_type": "code",
      "source": [
        "def solution(N, stages):\n",
        "    fool_list = [()]\n",
        "    levels = []\n",
        "    user = len(stages)\n",
        "    for i in range(1,N+1) :\n",
        "      count = 0\n",
        "      for ii in stages:\n",
        "        if ii<i+1 :\n",
        "          count += 1\n",
        "        print(i,ii,count)\n",
        "        fool = count/user\n",
        "      fool_list[i-1](1) = fool\n",
        "      fool_list[i-1](0) = i\n",
        "    answer = fool_list\n",
        "    return answer\n",
        "solution(4,\t\t[4,4,4,4,4])"
      ],
      "metadata": {
        "colab": {
          "base_uri": "https://localhost:8080/",
          "height": 110
        },
        "id": "M-LFsR0gdgrl",
        "outputId": "0ef5e617-6b40-4dd7-8c4a-36fa795e716d"
      },
      "execution_count": 59,
      "outputs": [
        {
          "output_type": "error",
          "ename": "SyntaxError",
          "evalue": "cannot assign to function call here. Maybe you meant '==' instead of '='? (<ipython-input-59-7d447d3e7262>, line 12)",
          "traceback": [
            "\u001b[0;36m  File \u001b[0;32m\"<ipython-input-59-7d447d3e7262>\"\u001b[0;36m, line \u001b[0;32m12\u001b[0m\n\u001b[0;31m    fool_list[i-1](1) = fool\u001b[0m\n\u001b[0m    ^\u001b[0m\n\u001b[0;31mSyntaxError\u001b[0m\u001b[0;31m:\u001b[0m cannot assign to function call here. Maybe you meant '==' instead of '='?\n"
          ]
        }
      ]
    },
    {
      "cell_type": "code",
      "source": [
        "### 나의 풀이##\n",
        "def solution(N, stages):\n",
        "    fool_dict = {}\n",
        "    user = (len(stages))\n",
        "    for i in range(1,N+1) :\n",
        "      count = 0\n",
        "      for ii in stages:\n",
        "        if ii>i :\n",
        "          count += 1\n",
        "      if user == 0 :\n",
        "        fool = 0\n",
        "      else:\n",
        "        fool = (user-count)/user\n",
        "      user = count\n",
        "      fool_dict[i] = fool\n",
        "      ##리스토로 하면...fool_dict.append([i,fool])\n",
        "    answerr = sorted(fool_dict.items(), key = lambda x:(-x[1], x[0]))\n",
        "    answer = [x[0] for x in answerr]\n",
        "    return answer\n",
        "solution(5,\t[2, 1, 2, 6, 2, 4, 3, 3])"
      ],
      "metadata": {
        "colab": {
          "base_uri": "https://localhost:8080/"
        },
        "id": "wKAu0unRjxyZ",
        "outputId": "73da678f-bec2-465d-b4a8-ed3295d778e9"
      },
      "execution_count": 114,
      "outputs": [
        {
          "output_type": "execute_result",
          "data": {
            "text/plain": [
              "[3, 4, 2, 1, 5]"
            ]
          },
          "metadata": {},
          "execution_count": 114
        }
      ]
    },
    {
      "cell_type": "code",
      "source": [
        "## 참고!!!!) 정렬에 대한 대상이 오로지 리스트만 가능할까? => X"
      ],
      "metadata": {
        "id": "oFLiJAbYj8vm"
      },
      "execution_count": null,
      "outputs": []
    }
  ]
}