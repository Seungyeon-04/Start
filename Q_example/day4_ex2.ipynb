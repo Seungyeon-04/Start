{
  "nbformat": 4,
  "nbformat_minor": 0,
  "metadata": {
    "colab": {
      "provenance": [],
      "authorship_tag": "ABX9TyO8chw9wGl6WFIGM5TXh48a",
      "include_colab_link": true
    },
    "kernelspec": {
      "name": "python3",
      "display_name": "Python 3"
    },
    "language_info": {
      "name": "python"
    }
  },
  "cells": [
    {
      "cell_type": "markdown",
      "metadata": {
        "id": "view-in-github",
        "colab_type": "text"
      },
      "source": [
        "<a href=\"https://colab.research.google.com/github/Seungyeon-04/Start/blob/main/Q_example/day4_ex2.ipynb\" target=\"_parent\"><img src=\"https://colab.research.google.com/assets/colab-badge.svg\" alt=\"Open In Colab\"/></a>"
      ]
    },
    {
      "cell_type": "code",
      "execution_count": null,
      "metadata": {
        "id": "jGTajB61RXzU"
      },
      "outputs": [],
      "source": []
    },
    {
      "cell_type": "markdown",
      "source": [
        "https://velog.io/@dnwls4659/이것이-코딩테스트다-왕실의-나이트"
      ],
      "metadata": {
        "id": "nq1CBEYOSFAm"
      }
    },
    {
      "cell_type": "code",
      "source": [
        "# 이 문제의 큰 틀 = > 정해진 8가지 L pattern\n",
        "# ord 활용"
      ],
      "metadata": {
        "id": "-F5uXu8KSF4g"
      },
      "execution_count": 1,
      "outputs": []
    },
    {
      "cell_type": "code",
      "source": [
        "# (a1) -> (1,1) / c2 -> (3,2)\n",
        "in_txt = \"c2\"\n",
        "row = int(in_txt[1])\n",
        "col = ord(in_txt[0])-ord(\"a\") + 1\n",
        "print(row,col) #=> 지도상의 이동에 대한 표현이 가넝해"
      ],
      "metadata": {
        "colab": {
          "base_uri": "https://localhost:8080/"
        },
        "id": "jTWl-09kSvID",
        "outputId": "1ef0debc-bf54-4424-9da2-e4dcb22f027b"
      },
      "execution_count": 6,
      "outputs": [
        {
          "output_type": "stream",
          "name": "stdout",
          "text": [
            "2 3\n"
          ]
        }
      ]
    },
    {
      "cell_type": "code",
      "source": [
        "#L자 이동에 대한 코드화\n",
        "# ==> (x,y) 임의의 위치에 있다고 할 때\n",
        "l_moves = [\n",
        "    [-2,-1],\n",
        "    [-2,1],\n",
        "    [2,-1],\n",
        "    [2,1],\n",
        "    [1,-2],\n",
        "    [1,2],\n",
        "    [-1,-2],\n",
        "    [-1,2]\n",
        "]\n",
        "l_moves"
      ],
      "metadata": {
        "colab": {
          "base_uri": "https://localhost:8080/"
        },
        "id": "10vb4Y2bTR4M",
        "outputId": "1b2f56c3-9e3b-4ef6-a01e-4be68d0fca0c"
      },
      "execution_count": 7,
      "outputs": [
        {
          "output_type": "execute_result",
          "data": {
            "text/plain": [
              "[[-2, -1], [-2, 1], [2, -1], [2, 1], [1, -2], [1, 2], [-1, -2], [-1, 2]]"
            ]
          },
          "metadata": {},
          "execution_count": 7
        }
      ]
    },
    {
      "cell_type": "code",
      "source": [
        "#문제의 큰 틀\n",
        "# for : l_moves 수행\n",
        "# if 부등식 : in/out판정 -> counting :조건 만족할 때\n",
        "\n",
        "# 카운팅 변수\n",
        "count = 0\n",
        "for move in l_moves :\n",
        "  print(move)\n",
        "  #1) 지금 위치에서 이동\n",
        "  #2) 그렇게 이동 할 수 있는지 판단\n",
        "  # if 가능하다면 count +=1\n",
        "  rrow, ccol = row+move[0] , col+move[1]\n",
        "  if rrow < 1 or rrow >8 or ccol >8 or ccol <1:\n",
        "    continue\n",
        "  else :\n",
        "    count +=1\n",
        "print(count)"
      ],
      "metadata": {
        "colab": {
          "base_uri": "https://localhost:8080/"
        },
        "id": "dbDABL3IUmFY",
        "outputId": "b6f3596c-61e1-4331-e678-2ce022c123cd"
      },
      "execution_count": 8,
      "outputs": [
        {
          "output_type": "stream",
          "name": "stdout",
          "text": [
            "[-2, -1]\n",
            "[-2, 1]\n",
            "[2, -1]\n",
            "[2, 1]\n",
            "[1, -2]\n",
            "[1, 2]\n",
            "[-1, -2]\n",
            "[-1, 2]\n",
            "6\n"
          ]
        }
      ]
    },
    {
      "cell_type": "code",
      "source": [
        "in_txt = \"c2\"\n",
        "row = int(in_txt[1])\n",
        "col = ord(in_txt[0])-ord(\"a\") + 1\n",
        "l_moves = [\n",
        "    [-2,-1],\n",
        "    [-2,1],\n",
        "    [2,-1],\n",
        "    [2,1],\n",
        "    [1,-2],\n",
        "    [1,2],\n",
        "    [-1,-2],\n",
        "    [-1,2]\n",
        "]\n",
        "count = 0\n",
        "for move in l_moves :\n",
        "  rrow, ccol = row+move[0] , col+move[1]\n",
        "  if rrow < 1 or rrow >8 or ccol >8 or ccol <1:\n",
        "    continue\n",
        "  else :\n",
        "    count +=1\n",
        "print(count)"
      ],
      "metadata": {
        "colab": {
          "base_uri": "https://localhost:8080/"
        },
        "id": "0jXbTG-yV0jj",
        "outputId": "57c538e7-d77c-4984-e534-2f68b57ec08a"
      },
      "execution_count": 9,
      "outputs": [
        {
          "output_type": "stream",
          "name": "stdout",
          "text": [
            "[-2, -1]\n",
            "[-2, 1]\n",
            "[2, -1]\n",
            "[2, 1]\n",
            "[1, -2]\n",
            "[1, 2]\n",
            "[-1, -2]\n",
            "[-1, 2]\n",
            "6\n"
          ]
        }
      ]
    },
    {
      "cell_type": "code",
      "source": [
        "##정리\n",
        "#   핵심적인 부분, 설정, 세팅, 해결방식 정확하게 파악\n",
        "#   주어진 문제에 잘 적용 + 활용"
      ],
      "metadata": {
        "id": "EFPMQHP3WX7h"
      },
      "execution_count": null,
      "outputs": []
    }
  ]
}