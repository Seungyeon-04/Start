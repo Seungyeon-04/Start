{
  "nbformat": 4,
  "nbformat_minor": 0,
  "metadata": {
    "colab": {
      "provenance": [],
      "authorship_tag": "ABX9TyOrxZCpE6PaOGWOm9ECMzSL",
      "include_colab_link": true
    },
    "kernelspec": {
      "name": "python3",
      "display_name": "Python 3"
    },
    "language_info": {
      "name": "python"
    }
  },
  "cells": [
    {
      "cell_type": "markdown",
      "metadata": {
        "id": "view-in-github",
        "colab_type": "text"
      },
      "source": [
        "<a href=\"https://colab.research.google.com/github/Seungyeon-04/Start/blob/main/bigdata_lab_day4.ipynb\" target=\"_parent\"><img src=\"https://colab.research.google.com/assets/colab-badge.svg\" alt=\"Open In Colab\"/></a>"
      ]
    },
    {
      "cell_type": "code",
      "execution_count": 1,
      "metadata": {
        "id": "BhWZD698vEb0"
      },
      "outputs": [],
      "source": [
        "#자료형 : 값의 종류\n",
        "#case1) 1개 값 : 파이썬이 만들어둔 자료형\n",
        "#               --> 숫자 : 정수, 실수, 복소수 등등\n",
        "#                         좀 더 엄밀하게 사용할 때는 numpy, etc pkg\n",
        "#               --> 논리 값 : True / False\n",
        "#               --> 문자 (참고) 특수문자 \\(해당문자)"
      ]
    },
    {
      "cell_type": "code",
      "source": [
        "#continue -> for 중심 명령어\n",
        "#continue 다음은 다 날림\n",
        "a = [3,4,5,6,7,8,9]\n",
        "for i in a :\n",
        "  print('체크전의 값',i)\n",
        "  if i ==5:\n",
        "    print(i)\n",
        "    continue\n",
        "    print(i+10000)\n",
        "  print(\"passsss\")"
      ],
      "metadata": {
        "colab": {
          "base_uri": "https://localhost:8080/"
        },
        "id": "oSrStCbM3To6",
        "outputId": "b8c72cae-f0f1-4cbc-dfef-4080366c49cf"
      },
      "execution_count": 2,
      "outputs": [
        {
          "output_type": "stream",
          "name": "stdout",
          "text": [
            "체크전의 값 3\n",
            "passsss\n",
            "체크전의 값 4\n",
            "passsss\n",
            "체크전의 값 5\n",
            "5\n",
            "체크전의 값 6\n",
            "passsss\n",
            "체크전의 값 7\n",
            "passsss\n",
            "체크전의 값 8\n",
            "passsss\n",
            "체크전의 값 9\n",
            "passsss\n"
          ]
        }
      ]
    },
    {
      "cell_type": "code",
      "source": [
        "#파이썬 틱하게 코드를 쓰는 방법 중 하나\n",
        "#     ==> 리스트 컴프리핸션!! : 여러개의 값을 돌려서 모은다!\n",
        "#장점 : 코드가 간결\n",
        "#단점 : 너무 중첩을 하면 오히려 가독성 문제가 생김\n",
        "#기능 : 값을 돌려가면서(for) 원하는 값을 모은다(리스트)\n",
        "#형식 : [모을 값 for i in 여러개]\n",
        "#속도가 빨라지는건 아님\n",
        "a=[\"a\",\"b\",\"c\",\"d\",\"e\",\"f\",\"g\",\"c\",\"i\"]\n",
        "###a 리스트에서 c인 원소 제거\n",
        "b=[]\n",
        "for i in a:\n",
        "  if i !=\"c\":\n",
        "    b.append(i)\n",
        "print(b)\n"
      ],
      "metadata": {
        "colab": {
          "base_uri": "https://localhost:8080/"
        },
        "id": "6e_XsLGo32Vq",
        "outputId": "862f3771-3205-4e81-b117-3d89b65e472d"
      },
      "execution_count": 4,
      "outputs": [
        {
          "output_type": "stream",
          "name": "stdout",
          "text": [
            "['a', 'b', 'd', 'e', 'f', 'g', 'i']\n"
          ]
        }
      ]
    },
    {
      "cell_type": "code",
      "source": [
        "[i for i in a]"
      ],
      "metadata": {
        "colab": {
          "base_uri": "https://localhost:8080/"
        },
        "id": "qqlvOF3H5HoL",
        "outputId": "17f2bc4a-a27e-4355-8ec2-3217ad3de35f"
      },
      "execution_count": 5,
      "outputs": [
        {
          "output_type": "execute_result",
          "data": {
            "text/plain": [
              "['a', 'b', 'c', 'd', 'e', 'f', 'g', 'c', 'i']"
            ]
          },
          "metadata": {},
          "execution_count": 5
        }
      ]
    },
    {
      "cell_type": "code",
      "source": [
        "[ i for i in a if i != \"c\"]"
      ],
      "metadata": {
        "colab": {
          "base_uri": "https://localhost:8080/"
        },
        "id": "wMBl_u2Y5Pd5",
        "outputId": "1aadaa27-c038-4753-a622-d6431fe5cf43"
      },
      "execution_count": 6,
      "outputs": [
        {
          "output_type": "execute_result",
          "data": {
            "text/plain": [
              "['a', 'b', 'd', 'e', 'f', 'g', 'i']"
            ]
          },
          "metadata": {},
          "execution_count": 6
        }
      ]
    },
    {
      "cell_type": "code",
      "source": [
        "# 예) 위에있는 a 리스드에서\n",
        "#     홀수번째에 위치한 값들만 \"h\"라는 문자를 추가하려고 함\n",
        "#     ==> 결과 : [\"ah\",\"ch\",\"eh\",\"gh\",\"ih\"]\n",
        "b = []\n",
        "for i in range(0,len(a),2):\n",
        "  b.append(a[i]+\"h\")\n",
        "print(b)"
      ],
      "metadata": {
        "colab": {
          "base_uri": "https://localhost:8080/"
        },
        "id": "7neYeHqW5TY3",
        "outputId": "b80c6fb4-e3e1-41ad-b3fd-b6df7d73533d"
      },
      "execution_count": 16,
      "outputs": [
        {
          "output_type": "stream",
          "name": "stdout",
          "text": [
            "['ah', 'ch', 'eh', 'gh', 'ih']\n"
          ]
        }
      ]
    },
    {
      "cell_type": "code",
      "source": [
        "##컴프리핸서\n",
        "[a[i]+\"h\" for i in range(0,len(a),2) ]"
      ],
      "metadata": {
        "colab": {
          "base_uri": "https://localhost:8080/"
        },
        "id": "bZlu8KXy5XCn",
        "outputId": "e2526cb1-b90f-43d6-9607-3310ba0f3edf"
      },
      "execution_count": 20,
      "outputs": [
        {
          "output_type": "execute_result",
          "data": {
            "text/plain": [
              "['ah', 'ch', 'eh', 'gh', 'ih']"
            ]
          },
          "metadata": {},
          "execution_count": 20
        }
      ]
    },
    {
      "cell_type": "code",
      "source": [
        "for i,v in enumerate(a):\n",
        "  if i%2 ==0:\n",
        "    print(v+\"h\")\n"
      ],
      "metadata": {
        "colab": {
          "base_uri": "https://localhost:8080/"
        },
        "id": "hVfApmxY7l4W",
        "outputId": "0df8fe0d-83c8-4273-8899-87ffee685670"
      },
      "execution_count": 19,
      "outputs": [
        {
          "output_type": "stream",
          "name": "stdout",
          "text": [
            "ah\n",
            "ch\n",
            "eh\n",
            "gh\n",
            "ih\n"
          ]
        }
      ]
    },
    {
      "cell_type": "code",
      "source": [
        "[v+\"h\" for i,v in enumerate(a) if i%2 ==0]"
      ],
      "metadata": {
        "colab": {
          "base_uri": "https://localhost:8080/"
        },
        "id": "m5VU-ch273d5",
        "outputId": "216b2a1e-4511-4949-9570-45f7264e0f2b"
      },
      "execution_count": 21,
      "outputs": [
        {
          "output_type": "execute_result",
          "data": {
            "text/plain": [
              "['ah', 'ch', 'eh', 'gh', 'ih']"
            ]
          },
          "metadata": {},
          "execution_count": 21
        }
      ]
    },
    {
      "cell_type": "code",
      "source": [
        "# 예) a의 운소들 중에서 짝수번째 값은 e 문자를 더하고 홀수번째 값은 o 문자를 더하자\n",
        "# => 앞의 경우와의 차이는 경우가 2가지가 되는 것 케바케\n",
        "b=[]\n",
        "for i,v in enumerate(a):\n",
        "  if i%2 ==0 :\n",
        "    b.append(v+'e')\n",
        "    print(v+'e')\n",
        "  else :\n",
        "    b.append(v+'o')\n",
        "    print(v+'o')\n",
        "print(b)"
      ],
      "metadata": {
        "colab": {
          "base_uri": "https://localhost:8080/"
        },
        "id": "61-H6YZI8WY6",
        "outputId": "c78893ac-2d5f-4e1f-8b5a-6b532abd0d59"
      },
      "execution_count": 25,
      "outputs": [
        {
          "output_type": "stream",
          "name": "stdout",
          "text": [
            "ae\n",
            "bo\n",
            "ce\n",
            "do\n",
            "ee\n",
            "fo\n",
            "ge\n",
            "co\n",
            "ie\n",
            "['ae', 'bo', 'ce', 'do', 'ee', 'fo', 'ge', 'co', 'ie']\n"
          ]
        }
      ]
    },
    {
      "cell_type": "code",
      "source": [
        "[ v+\"e\" if i%2 ==0 else v+\"o\" for i,v in enumerate(a)]"
      ],
      "metadata": {
        "colab": {
          "base_uri": "https://localhost:8080/"
        },
        "id": "xlouTcUAAv26",
        "outputId": "53965ce5-0b02-425e-c6b0-cf13fc67e065"
      },
      "execution_count": 26,
      "outputs": [
        {
          "output_type": "execute_result",
          "data": {
            "text/plain": [
              "['ae', 'bo', 'ce', 'do', 'ee', 'fo', 'ge', 'co', 'ie']"
            ]
          },
          "metadata": {},
          "execution_count": 26
        }
      ]
    },
    {
      "cell_type": "code",
      "source": [
        "##정리\n",
        "# ==> 리스트컴프리핸션 자유롭게 하실 수 잇으면 좋다\n",
        "# 돌리는것도 다양하게 : a, range, items,enumerate, etc...\n",
        "# 조건이 있다면 [모을 값 for 롤링 (if 조건)]\n",
        "#                [모을 값1  if 조건 else 모을값2 for 롤링]"
      ],
      "metadata": {
        "id": "lRDfvewWBOyL"
      },
      "execution_count": 27,
      "outputs": []
    },
    {
      "cell_type": "code",
      "source": [
        "### 덩어리 중심으로 코드 정리!\n",
        "# 함수 ---> 클래스 ---> 패키지...\n",
        "# 가장 기본적인 구조화 : 함수 y=f(x)\n",
        "# ===> 3가지 요소 : 입력, 출력, 입출에 대한 관계(기능)\n",
        "#      중심은 무엇을 수행 기능할지를 작성 하는 것이 핵심\n",
        "# ===> 코드를 읽을 때 기능 중심으로 읽을 수 있음"
      ],
      "metadata": {
        "id": "wy25UL6LBfyA"
      },
      "execution_count": 29,
      "outputs": []
    },
    {
      "cell_type": "code",
      "source": [
        "# 함수를 만드는 기본 구조\n",
        "# def 함수명(입력인자): ===> 입력 x에 대한 세팅\n",
        "#     무엇을 할지 구현\n",
        "#     return 출력"
      ],
      "metadata": {
        "id": "p4I75YzlC6vn"
      },
      "execution_count": 30,
      "outputs": []
    },
    {
      "cell_type": "code",
      "source": [
        "# 예) 파이썬에 더하는 함수 -->sum()\n",
        "#     => 조금 부편한 점 : sum([v,v...])\n",
        "#     -> 내가 원하는 더하는 함수 : sum2(10,20) => 30\n",
        "\n",
        "## 입력 : 숫자 2개\n",
        "## 기능 : 입력받은 2개 숫자를 더한 값 생성 출력\n",
        "## 출력 : 더한 값\n",
        "\n",
        "def sum2(a,b):\n",
        "  # 입력으로 받은 a,b를 가지고 무엇을 할지 기술\n",
        "  # 파이썬의 문법 + 코데 경우는 알고리즘도..\n",
        "  result = a+b\n",
        "  return result\n",
        "## 참고) 함수 내에서 만든 변수들은 특별한 조치를 하지 않는 이상 함수내에서만 생존\n",
        "sum2(50,40)"
      ],
      "metadata": {
        "colab": {
          "base_uri": "https://localhost:8080/"
        },
        "id": "yZcymzQ-Epaz",
        "outputId": "2d5468d4-b843-4bda-f86a-34c01a786e67"
      },
      "execution_count": 34,
      "outputs": [
        {
          "output_type": "execute_result",
          "data": {
            "text/plain": [
              "90"
            ]
          },
          "metadata": {},
          "execution_count": 34
        }
      ]
    },
    {
      "cell_type": "code",
      "source": [
        "#===> 입력이 가변적으로 여러개가 들어와도 처리를 하면 어떨까\n",
        "#     가변적인 입력을 처리할 때 : *args ==> 파이썬의 리스트 처럼\n",
        "#                                 **args ==> 파이썬의 dict -> 특정 파라미터값을\n",
        "## sumrandom(10,20,30)\n",
        "## sumrandom(10,20,3,4,,3,2,2)\n",
        "def sumrandom(*args):\n",
        "  # args는 파이썬의 리스트 처럼..!\n",
        "  # args = [10,20,30]\n",
        "  # 개별 원소들을 꺼내면서 누적합\n",
        "  # ++ 처음 시작에 대해서는 초기값 0\n",
        "  temp = 0\n",
        "  #입력받을 것들을 다 롤릴ㅇ --> for\n",
        "  for i in args :\n",
        "    temp += i\n",
        "  return temp"
      ],
      "metadata": {
        "id": "RMy3m41XEtLO"
      },
      "execution_count": 39,
      "outputs": []
    },
    {
      "cell_type": "code",
      "source": [
        "sumrandom(10,20,30)"
      ],
      "metadata": {
        "colab": {
          "base_uri": "https://localhost:8080/"
        },
        "id": "CDRFpra-IPct",
        "outputId": "9b3fdae0-e802-499e-cc8d-980893db66e5"
      },
      "execution_count": 40,
      "outputs": [
        {
          "output_type": "execute_result",
          "data": {
            "text/plain": [
              "60"
            ]
          },
          "metadata": {},
          "execution_count": 40
        }
      ]
    },
    {
      "cell_type": "code",
      "source": [
        "# 참고) 코테나 간단하게 작업을 할때는 예외처리신경 안써도 됨\n",
        "#       1but 대면면접이나 큰 포르젝트에서는 신경 많이 써야함\n"
      ],
      "metadata": {
        "id": "pe3oXYO7IRDZ"
      },
      "execution_count": 41,
      "outputs": []
    },
    {
      "cell_type": "code",
      "source": [
        "#참고) 출력을 여러개를 내보내는 경우\n",
        "#      ==> 입력 2개 숫자\n",
        "#      출렵 :사칙연산 결과 4개를 출력\n",
        "def multiple(a,b):\n",
        "  return a+b, a-b, a*b, a/b"
      ],
      "metadata": {
        "id": "X53WyR7LJGB-"
      },
      "execution_count": 81,
      "outputs": []
    },
    {
      "cell_type": "code",
      "source": [
        "multiple(1,2)\n",
        "##결과값이 듀플\n",
        "# 자료 이용하기 위해서는 리스트로 바꾸면 됨"
      ],
      "metadata": {
        "colab": {
          "base_uri": "https://localhost:8080/"
        },
        "id": "FGgEgWydJWZs",
        "outputId": "bb504310-9fcc-4bf3-922d-3e383b0984ec"
      },
      "execution_count": 44,
      "outputs": [
        {
          "output_type": "execute_result",
          "data": {
            "text/plain": [
              "(3, -1, 2, 0.5)"
            ]
          },
          "metadata": {},
          "execution_count": 44
        }
      ]
    },
    {
      "cell_type": "code",
      "source": [
        "### 함수 : 입력/출력을 중심으로 내가 무엇을 할지에 대한 기능화\n",
        "#         ==> 여러번 재사용이 용이 + 가독성 + 구조화 etc\n",
        "# ctrl+c/v 효율화"
      ],
      "metadata": {
        "id": "w6UPUp9vJYKk"
      },
      "execution_count": 47,
      "outputs": []
    },
    {
      "cell_type": "code",
      "source": [
        "# 참고) 기능적인 룰/규칙\n",
        "# ====> 데이터를 전처리 할 때 사용가능성은 낮지만 규칙적인 구현, 표현\n",
        "#       *** lambda 함수 : 데이터 전처리 + 코테(정렬구현)\n",
        "\n",
        "# 예) 데이터 전처리 : id_001, id_002, id_003,,, => 1,2,3,4\n",
        "# => 규칙을 람다함수로 표현을 많이 함\n",
        "def sum2(a,b):\n",
        "  temp = a+b\n",
        "  return temp"
      ],
      "metadata": {
        "id": "r8Ng_hkCJxJQ"
      },
      "execution_count": 49,
      "outputs": []
    },
    {
      "cell_type": "code",
      "source": [
        "sum2(10,20)"
      ],
      "metadata": {
        "colab": {
          "base_uri": "https://localhost:8080/"
        },
        "id": "lD4D2KluKsG_",
        "outputId": "b4639f5e-f1a6-4964-c80c-967ad28336ef"
      },
      "execution_count": 51,
      "outputs": [
        {
          "output_type": "execute_result",
          "data": {
            "text/plain": [
              "30"
            ]
          },
          "metadata": {},
          "execution_count": 51
        }
      ]
    },
    {
      "cell_type": "code",
      "source": [
        "# ---> 간단한 기능 중심의 표현 / 규칙의표현 : lambda 함수\n",
        "(lambda a,b:a+b)(10,20)\n",
        "# lambda 함수는 중요\n",
        "# ==> 데이터 전처리 : apply + 어떤 일을 처리할 지에 대한 규칙 표현\n",
        "# ==> 코테 : 특이한 정렬 조건에 대한 규칙을 표현할 때 -> 정답지 제출 전에..?"
      ],
      "metadata": {
        "colab": {
          "base_uri": "https://localhost:8080/"
        },
        "id": "1EW3Yj42KwC2",
        "outputId": "ec5467e2-d76c-4d5b-f4d0-225c70e2535c"
      },
      "execution_count": 52,
      "outputs": [
        {
          "output_type": "execute_result",
          "data": {
            "text/plain": [
              "30"
            ]
          },
          "metadata": {},
          "execution_count": 52
        }
      ]
    },
    {
      "cell_type": "code",
      "source": [
        "# 참고 : 점수가 80점 이상인 과목들이 몇 과목인가?\n",
        "# ---->필터링 : 점수에 -->if\n",
        "zumsu_list = [80,75,55,90]\n",
        "cnt =0\n",
        "for i in zumsu_list:\n",
        "  if i >= 80:\n",
        "    cnt +=1\n",
        "print(cnt)"
      ],
      "metadata": {
        "colab": {
          "base_uri": "https://localhost:8080/"
        },
        "id": "Qp5SXo39K9Vr",
        "outputId": "055677d6-8b4b-49e7-c353-071995301618"
      },
      "execution_count": 54,
      "outputs": [
        {
          "output_type": "stream",
          "name": "stdout",
          "text": [
            "2\n"
          ]
        }
      ]
    },
    {
      "cell_type": "code",
      "source": [
        "len([i for i in zumsu_list if i>= 80])"
      ],
      "metadata": {
        "colab": {
          "base_uri": "https://localhost:8080/"
        },
        "id": "Xwv52sbPP9Lw",
        "outputId": "c21114a8-f867-47a0-8d44-5249541f5f92"
      },
      "execution_count": 55,
      "outputs": [
        {
          "output_type": "execute_result",
          "data": {
            "text/plain": [
              "2"
            ]
          },
          "metadata": {},
          "execution_count": 55
        }
      ]
    },
    {
      "cell_type": "code",
      "source": [
        "# ---> 가변적인 입력을 받을 때 파이썬 함수 : input()\n",
        "a = input(\"성적을 입력하세요\")\n",
        "a"
      ],
      "metadata": {
        "colab": {
          "base_uri": "https://localhost:8080/",
          "height": 54
        },
        "id": "gA4dpDQfQJl0",
        "outputId": "022a4b4a-99d7-4857-8ef2-961f3a51389a"
      },
      "execution_count": 59,
      "outputs": [
        {
          "name": "stdout",
          "output_type": "stream",
          "text": [
            "성적을 입력하세요100\n"
          ]
        },
        {
          "output_type": "execute_result",
          "data": {
            "text/plain": [
              "'100'"
            ],
            "application/vnd.google.colaboratory.intrinsic+json": {
              "type": "string"
            }
          },
          "metadata": {},
          "execution_count": 59
        }
      ]
    },
    {
      "cell_type": "code",
      "source": [
        "int(a) +10"
      ],
      "metadata": {
        "colab": {
          "base_uri": "https://localhost:8080/"
        },
        "id": "zl2fXqJzQTdN",
        "outputId": "a5f2d130-a815-4fc7-98be-0a5e5e48895f"
      },
      "execution_count": 60,
      "outputs": [
        {
          "output_type": "execute_result",
          "data": {
            "text/plain": [
              "110"
            ]
          },
          "metadata": {},
          "execution_count": 60
        }
      ]
    },
    {
      "cell_type": "code",
      "source": [],
      "metadata": {
        "id": "FaRUCF4FQs_y"
      },
      "execution_count": 80,
      "outputs": []
    },
    {
      "cell_type": "code",
      "source": [
        "2#방법2를 가변적인 입력으로 하면\n",
        "zumsu_list=[]\n",
        "zumsu_list.append(int(input(\"국어점수\")))\n"
      ],
      "metadata": {
        "id": "rEZ9oK8PRPyp"
      },
      "execution_count": 62,
      "outputs": []
    },
    {
      "cell_type": "code",
      "source": [
        "#과목이 더 늘어나면 어쩔까요\n",
        "# ==> ctrl +c/v 고정적 부분 + 가변적 부분\n",
        "# 고정적인 부분 => 하트코딩\n",
        "# 가변적인 부분 -> 필요한 것들을 리스트업 //규칙"
      ],
      "metadata": {
        "id": "B__tBvkpRW0j"
      },
      "execution_count": 64,
      "outputs": []
    },
    {
      "cell_type": "code",
      "source": [
        "subjects = [\"국아\",\"수학\",\"영어\",\"사회\",\"미술\",\"체육\"]\n",
        "zumsulist = []\n",
        "for sub in subjects :\n",
        "  txt = sub + \"를 입력하세요\"\n",
        "  zumsu_list.append(int(input(txt)))\n",
        "avg_score = sum(zumsu_list)/len(zumsu_list)\n",
        "print(avg_score)"
      ],
      "metadata": {
        "colab": {
          "base_uri": "https://localhost:8080/"
        },
        "id": "Mh_5XSdNSIb3",
        "outputId": "9358aa91-35b7-42e8-fd68-c5cb03b8f91f"
      },
      "execution_count": 66,
      "outputs": [
        {
          "output_type": "stream",
          "name": "stdout",
          "text": [
            "국아를 입력하세요4\n",
            "수학를 입력하세요5\n",
            "영어를 입력하세요6\n",
            "사회를 입력하세요3\n",
            "미술를 입력하세요4\n",
            "체육를 입력하세요2\n",
            "5.25\n"
          ]
        }
      ]
    },
    {
      "cell_type": "code",
      "source": [
        "##문제 : a = [\"one\",\"two\"m,\"three\",\"four\"]\n",
        "#for문을 사용해서\n",
        "#b = [\"one1\"...]로 만들어 보자\n",
        "##시도 1) for&range 정수 인덱스 중심\n",
        "##시도 2) for& 값 자체\n",
        "a = [\"one\",\"tow\",\"three\",\"four\"]\n",
        "b = []\n",
        "for i in range(len(a)):\n",
        "  b.append(a[i]+str(i+1))\n",
        "print(b)\n"
      ],
      "metadata": {
        "colab": {
          "base_uri": "https://localhost:8080/"
        },
        "id": "j6bXCYhASty2",
        "outputId": "fd5210c3-b373-4ce7-d68e-de9d8fce9298"
      },
      "execution_count": 68,
      "outputs": [
        {
          "output_type": "stream",
          "name": "stdout",
          "text": [
            "['one1', 'tow2', 'three3', 'four4']\n"
          ]
        }
      ]
    },
    {
      "cell_type": "code",
      "source": [
        "a = [\"one\",\"tow\",\"three\",\"four\"]\n",
        "b = []\n",
        "for i,v in enumerate(a):\n",
        "  b.append(a[i]+str(i+1))\n",
        "print(b)"
      ],
      "metadata": {
        "colab": {
          "base_uri": "https://localhost:8080/"
        },
        "id": "TSde3Rh9T8WM",
        "outputId": "a3e0720d-c1ab-4e49-b928-f5c885dcaa7d"
      },
      "execution_count": 72,
      "outputs": [
        {
          "output_type": "stream",
          "name": "stdout",
          "text": [
            "['one1', 'tow2', 'three3', 'four4']\n"
          ]
        }
      ]
    },
    {
      "cell_type": "code",
      "source": [
        "# sol1) 내가 필요한 것이 숫자 --> range ---> 0,1,2,3 (리스트 정수 인덱스)\n",
        "# sol2)                                      1,2,3,4 (뒤에 붙일 값 중심)\n",
        "b = []\n",
        "for i in range(1,5,1):\n",
        "  print(i)\n",
        "  print(a[i-1])\n",
        "  b.append(a[i-1]+str(i))\n",
        "print(b)"
      ],
      "metadata": {
        "colab": {
          "base_uri": "https://localhost:8080/"
        },
        "id": "DFBcPKFgUae6",
        "outputId": "891da7c3-79d0-426e-d789-cfde5427d370"
      },
      "execution_count": 75,
      "outputs": [
        {
          "output_type": "stream",
          "name": "stdout",
          "text": [
            "1\n",
            "one\n",
            "2\n",
            "tow\n",
            "3\n",
            "three\n",
            "4\n",
            "four\n",
            "['one1', 'tow2', 'three3', 'four4']\n"
          ]
        }
      ]
    },
    {
      "cell_type": "code",
      "source": [
        "# 대상을 리스트의 값의 접근 정수 인덱스\n",
        "b = []\n",
        "for i in range(len(a)):\n",
        "  b.append(a[i]+str(i+1))\n",
        "print(b)"
      ],
      "metadata": {
        "colab": {
          "base_uri": "https://localhost:8080/"
        },
        "id": "cHXf_nf_VIAI",
        "outputId": "d238e46e-1dd7-440e-a9a8-2c6c241149ee"
      },
      "execution_count": 76,
      "outputs": [
        {
          "output_type": "stream",
          "name": "stdout",
          "text": [
            "['one1', 'tow2', 'three3', 'four4']\n"
          ]
        }
      ]
    },
    {
      "cell_type": "code",
      "source": [
        "#sol2) 값을 직접 돌리는 방식\n",
        "## 필요한 것 1부터 1씩 증가하는 값 필요 -> 카운팅\n",
        "cnt = 1\n",
        "for i in a:\n",
        "  print(i+str(cnt))\n",
        "  cnt += 1\n"
      ],
      "metadata": {
        "colab": {
          "base_uri": "https://localhost:8080/"
        },
        "id": "kCe_jIZuViZ5",
        "outputId": "f492bb4f-a402-441f-f535-7dc3850ce2b5"
      },
      "execution_count": 78,
      "outputs": [
        {
          "output_type": "stream",
          "name": "stdout",
          "text": [
            "one1\n",
            "tow2\n",
            "three3\n",
            "four4\n"
          ]
        }
      ]
    },
    {
      "cell_type": "code",
      "source": [
        "## --> 정수 인덱스 중심으로 할때\n",
        "[ a[i-1]+str(i) for i in range(1,5,1)]"
      ],
      "metadata": {
        "colab": {
          "base_uri": "https://localhost:8080/"
        },
        "id": "gVRcmf1tV9QK",
        "outputId": "edd7934d-3a73-4d7c-b773-26bca78d9f05"
      },
      "execution_count": 80,
      "outputs": [
        {
          "output_type": "execute_result",
          "data": {
            "text/plain": [
              "['one1', 'tow2', 'three3', 'four4']"
            ]
          },
          "metadata": {},
          "execution_count": 80
        }
      ]
    },
    {
      "cell_type": "code",
      "source": [
        "# 문제 : a = [1,2,3,4,5] 리스트가 았다면\n",
        "#        => [1,3,5]의 리스트로 만들어 보세요\n",
        "# => 기존의 값들에서 필요한 조건에 맞는 값들을 필터링"
      ],
      "metadata": {
        "id": "onKsjwBPWl8s"
      },
      "execution_count": 82,
      "outputs": []
    },
    {
      "cell_type": "code",
      "source": [
        "#sol1) 내가 제거/모을 값들에 대한 규칙이 있냐 없냐\n",
        "#      규칙 : 홀수/짝수 판별\n",
        "#       --> 살리는 값을 중심으로 하면 : 홀수만 살리자!\n",
        "a=[1,2,3,4,5]\n",
        "b=[]\n",
        "for i in a:\n",
        "  if i % 2 ==1:\n",
        "    b.append(i)\n",
        "b"
      ],
      "metadata": {
        "colab": {
          "base_uri": "https://localhost:8080/"
        },
        "id": "19223qknXbJ1",
        "outputId": "a0d6db77-9f81-4756-b250-3ed247c75326"
      },
      "execution_count": 83,
      "outputs": [
        {
          "output_type": "execute_result",
          "data": {
            "text/plain": [
              "[1, 3, 5]"
            ]
          },
          "metadata": {},
          "execution_count": 83
        }
      ]
    },
    {
      "cell_type": "code",
      "source": [
        "#==> LC로 전환\n",
        "[ i for i in a if i%2==1]"
      ],
      "metadata": {
        "colab": {
          "base_uri": "https://localhost:8080/"
        },
        "id": "K63RrjK2X49p",
        "outputId": "e4765719-08b3-46d9-9917-e94865c9e8e3"
      },
      "execution_count": 85,
      "outputs": [
        {
          "output_type": "execute_result",
          "data": {
            "text/plain": [
              "[1, 3, 5]"
            ]
          },
          "metadata": {},
          "execution_count": 85
        }
      ]
    },
    {
      "cell_type": "code",
      "source": [
        "# sol2) 규칙이 없다고 가정하면\n",
        "#   => 데이터를 수집할 때 : 예외 처리쪽에서..\n",
        "#   => 코테에서도 종종 사용됨\n",
        "# 규칙이 없다면 -> 예외적인 상황들을 다 나열\n",
        "a=[1,2,3,4,5]\n",
        "for i in a:\n",
        "  if (i==1) or (i==3) or (i==5):\n",
        "    print(i)"
      ],
      "metadata": {
        "colab": {
          "base_uri": "https://localhost:8080/"
        },
        "id": "y1ukmFmQYBwF",
        "outputId": "3983a8b7-89e2-4876-8088-4e7401e4cfab"
      },
      "execution_count": 87,
      "outputs": [
        {
          "output_type": "stream",
          "name": "stdout",
          "text": [
            "1\n",
            "3\n",
            "5\n"
          ]
        }
      ]
    },
    {
      "cell_type": "code",
      "source": [
        "# ++,필터링 하려고 하는 여러개들을 나열\n",
        "# ===> 필터링을 하고자 하는 애들을 모아두자\n",
        "a = [1,1,1,2,2,2,3,3,3,4,4,4,5,5,5,6,6,6]\n",
        "b = [1,3,5]\n",
        "for i in a:\n",
        "  if i in b:\n",
        "    print(i)\n"
      ],
      "metadata": {
        "colab": {
          "base_uri": "https://localhost:8080/"
        },
        "id": "M1w5B5EtYdj9",
        "outputId": "8559cd77-34e0-411f-dd79-e34072240c31"
      },
      "execution_count": 89,
      "outputs": [
        {
          "output_type": "stream",
          "name": "stdout",
          "text": [
            "1\n",
            "1\n",
            "1\n",
            "3\n",
            "3\n",
            "3\n",
            "5\n",
            "5\n",
            "5\n"
          ]
        }
      ]
    },
    {
      "cell_type": "code",
      "source": [
        "a = [1,1,1,2,2,2,3,3,3,4,4,4,5,5,5,6,6,6]\n",
        "b = [1,3,5]\n",
        "for i in a:\n",
        "  if i not in b: #거르는 부분 알려줌\n",
        "    print(i)"
      ],
      "metadata": {
        "colab": {
          "base_uri": "https://localhost:8080/"
        },
        "id": "WWegsvkKY2Fh",
        "outputId": "f86a0293-b30e-4079-db03-ddbbb889f6e3"
      },
      "execution_count": 90,
      "outputs": [
        {
          "output_type": "stream",
          "name": "stdout",
          "text": [
            "2\n",
            "2\n",
            "2\n",
            "4\n",
            "4\n",
            "4\n",
            "6\n",
            "6\n",
            "6\n"
          ]
        }
      ]
    },
    {
      "cell_type": "code",
      "source": [
        "#1,3,5를 제외한 모든 원소들에 대해서 +10을 하세요\n",
        "# a=[1,1,2,3,4,4,4,5,6,6,3,3,2,2,2]\n",
        "# => LC로 구현해보쟈\n",
        "[i+10 for i in a if i not in [1,3,5]]"
      ],
      "metadata": {
        "colab": {
          "base_uri": "https://localhost:8080/"
        },
        "id": "E67XzUDkZsJq",
        "outputId": "cc43d9f8-540e-4af4-e038-f454e2831138"
      },
      "execution_count": 91,
      "outputs": [
        {
          "output_type": "execute_result",
          "data": {
            "text/plain": [
              "[12, 12, 12, 14, 14, 14, 16, 16, 16]"
            ]
          },
          "metadata": {},
          "execution_count": 91
        }
      ]
    },
    {
      "cell_type": "code",
      "source": [
        "# 정리!!\n",
        "# 값/ 조건에 대해서 정리/ 필터링 ==> 규칙이 있는지 없는지 판단!!\n",
        "# ==> 규칙이 있다면 : 규칙에 대한 코드화\n",
        "#                   : 어려운 코테(알고리즘 + 복잡한 상황 정리!!\n",
        "# 값/ 조건에 대해서 정리/ 필터링 ==> 규칙이 있는지 없는지 판단!!\n",
        "# ==> 규칙이 있다면 : 규칙에 대한 코드화\n",
        "#                   : 어려운 코테(알고리즘 + 복잡한 상황)\n",
        "# ==> 규칙이 없다면 : 최소한의 리스트업을 하는 방식을 고민\n",
        "#                   : in, not in"
      ],
      "metadata": {
        "id": "lIJvj062aH1l"
      },
      "execution_count": 92,
      "outputs": []
    },
    {
      "cell_type": "code",
      "source": [
        "##Dict는 데이터 처리 중 간혹 사용되는 자료형 => Dict를 잘 활용하는 연습 필요 =>type fast\n",
        "# ==>오타 대소문자"
      ],
      "metadata": {
        "id": "4NEsHr5Vadhg"
      },
      "execution_count": 93,
      "outputs": []
    },
    {
      "cell_type": "code",
      "source": [
        "# 참고) a가 어떤 자료형인지\n",
        "#a[~~~] : 공통점 -->   값을 접근\n",
        "\n",
        "#a : 리스트 --> a[정수],a[슬라이싱]\n",
        "#a:dict ====> a[키값] : exact matching!\n",
        "#a:numpy array => a[정수], a[슬라이싱], a[리스트]\n",
        "#a:pasda DF/Serises => a[정수]"
      ],
      "metadata": {
        "id": "T-_jdjqtwR3r"
      },
      "execution_count": 94,
      "outputs": []
    },
    {
      "cell_type": "code",
      "source": [
        "a={\"a\":30,\"b\":50,\"c\":10,\"d\":45,\"e\":85,\"f\":77}\n",
        "# Q) 최고점과 최저점을 찾아보자 (많은 학생이 잇다고 가정)\n",
        "max(a) # 딕셔너리는 키가 중심\n",
        "# ==> f에 대한 문자열에 대한 숫자 코드값이 제일 크므로"
      ],
      "metadata": {
        "colab": {
          "base_uri": "https://localhost:8080/",
          "height": 35
        },
        "id": "f0-870RYyIrP",
        "outputId": "13cf99d6-69db-4f4a-ad4c-53434be2e108"
      },
      "execution_count": 97,
      "outputs": [
        {
          "output_type": "execute_result",
          "data": {
            "text/plain": [
              "'f'"
            ],
            "application/vnd.google.colaboratory.intrinsic+json": {
              "type": "string"
            }
          },
          "metadata": {},
          "execution_count": 97
        }
      ]
    },
    {
      "cell_type": "code",
      "source": [
        "ord(\"A\")"
      ],
      "metadata": {
        "colab": {
          "base_uri": "https://localhost:8080/"
        },
        "id": "fMyMZpSuyTqb",
        "outputId": "8af4695f-8dc3-44e9-9fc8-a2e34745407d"
      },
      "execution_count": 98,
      "outputs": [
        {
          "output_type": "execute_result",
          "data": {
            "text/plain": [
              "65"
            ]
          },
          "metadata": {},
          "execution_count": 98
        }
      ]
    },
    {
      "cell_type": "code",
      "source": [
        "ord(\"F\")"
      ],
      "metadata": {
        "colab": {
          "base_uri": "https://localhost:8080/"
        },
        "id": "3t_anDGEy4Va",
        "outputId": "de1d18b3-d9f0-40ba-db81-fd316912f866"
      },
      "execution_count": 99,
      "outputs": [
        {
          "output_type": "execute_result",
          "data": {
            "text/plain": [
              "70"
            ]
          },
          "metadata": {},
          "execution_count": 99
        }
      ]
    },
    {
      "cell_type": "code",
      "source": [
        "ord(\"a\")"
      ],
      "metadata": {
        "colab": {
          "base_uri": "https://localhost:8080/"
        },
        "id": "i0NTpqBCy9Le",
        "outputId": "9cb9d9c2-fbd2-4194-925d-76634bb7046e"
      },
      "execution_count": 100,
      "outputs": [
        {
          "output_type": "execute_result",
          "data": {
            "text/plain": [
              "97"
            ]
          },
          "metadata": {},
          "execution_count": 100
        }
      ]
    },
    {
      "cell_type": "code",
      "source": [
        "# ==> ord 함수는 문자에 대한 코드값을 사요알 때 종종 코테에서 사용\n",
        "#Dict는 key중심의 자료형 => 어떤 항목을 중심으로 할지 명시해야함\n",
        "# 대상이 key : dict.keys()\n",
        "# 대상이 valuew : dict.values()\n",
        "# +++ 같이 : dict.itmes()\n",
        "max(a.values())"
      ],
      "metadata": {
        "colab": {
          "base_uri": "https://localhost:8080/"
        },
        "id": "3y3s5jHyy_XM",
        "outputId": "cb12ebc3-2526-403b-c81f-caf4b01f5eca"
      },
      "execution_count": 101,
      "outputs": [
        {
          "output_type": "execute_result",
          "data": {
            "text/plain": [
              "85"
            ]
          },
          "metadata": {},
          "execution_count": 101
        }
      ]
    },
    {
      "cell_type": "code",
      "source": [
        "a={\"a\":30,\"b\":50,\"c\":10,\"d\":45,\"e\":85,\"f\":77}\n",
        "# Q) 누가 최고점을 받았고, 누가 최저점을 받았는지 이름 출력\n",
        "# --> Dict에서 내가 필터링의 조건(최고점, 최저점) : values\n",
        "#     출력을 하기 위해서는 이름 정보              : keys\n",
        "# ==> 같이 보려면 items() -> (k,v)\n",
        "min_val = min(a.values())\n",
        "max_val = min(a.values())\n",
        "\n",
        "\n",
        "# 우리반 학생들 모두에게 물어볼 때 -> 롤링\n",
        "# ==> k,v 모두 한번에 처리하고자 items()\n",
        "\n",
        "# if) a-10, b-10, c-10\n",
        "for name, score in a.items():\n",
        "  if score ==min_val:\n",
        "    print(\"최소점 학생\", name)\n",
        "  elif score == max_val:\n",
        "    print(\"최고점 학생\", name)\n",
        "  else:\n",
        "    pass"
      ],
      "metadata": {
        "colab": {
          "base_uri": "https://localhost:8080/"
        },
        "id": "3EPZnHeZzoup",
        "outputId": "679b9007-6704-4da4-a1de-fff2a17a2295"
      },
      "execution_count": 104,
      "outputs": [
        {
          "output_type": "stream",
          "name": "stdout",
          "text": [
            "최소점 학생 c\n"
          ]
        }
      ]
    },
    {
      "cell_type": "code",
      "source": [
        "###05_범위(in_out)####"
      ],
      "metadata": {
        "id": "CaEdwkKT1WJE"
      },
      "execution_count": 105,
      "outputs": []
    },
    {
      "cell_type": "code",
      "source": [
        "# Q) 한 점을 구성하는 x,y 좌표를 입력받아서"
      ],
      "metadata": {
        "id": "mVSOuUec1uXz"
      },
      "execution_count": 106,
      "outputs": []
    },
    {
      "cell_type": "code",
      "source": [
        "# (50,40), (50,80), (100,40), (100,80) 4개의 점을 꼭지점으로 하는 사각형 내부에 있는지 외부에 있는지 판별\n",
        "# ==> 의도 : 문제들을 어떻게 코테문제들로 하는지..?"
      ],
      "metadata": {
        "id": "Xp8nJj4s11cI"
      },
      "execution_count": 107,
      "outputs": []
    },
    {
      "cell_type": "code",
      "source": [
        "# part1) 사용자한테 좌표를 입력받아서\n",
        "X = int(input(\"x좌표 입력하세요\"))\n",
        "y = int(input(\"y좌표 입력하세요\"))"
      ],
      "metadata": {
        "colab": {
          "base_uri": "https://localhost:8080/"
        },
        "id": "R0UBrsfU2imM",
        "outputId": "35cc9c77-163c-4c99-8e0c-8f6a3a9b9627"
      },
      "execution_count": 108,
      "outputs": [
        {
          "name": "stdout",
          "output_type": "stream",
          "text": [
            "x좌표 입력하세요20\n",
            "y좌표 입력하세요30\n"
          ]
        }
      ]
    },
    {
      "cell_type": "code",
      "source": [
        "print(X,y)"
      ],
      "metadata": {
        "colab": {
          "base_uri": "https://localhost:8080/"
        },
        "id": "d5JU307o27aX",
        "outputId": "1b22212f-3dcd-4e7f-fabe-714771fb20f5"
      },
      "execution_count": 111,
      "outputs": [
        {
          "output_type": "stream",
          "name": "stdout",
          "text": [
            "20 30\n"
          ]
        }
      ]
    },
    {
      "cell_type": "code",
      "source": [
        "# part2 ) in.out 판단\n",
        "#     ==> 좌표를 도입하면 편함\n",
        "      #     각 기준별로 돌릭벅으로 조건을 설정할 수 있음\n",
        "      # ==> 부등식\n",
        "      # ==> 안쪽을 중심으로 (가정)\n",
        "      #     조건1) x>50 and x<100\n",
        "      #     조건2) y>40 and y<80"
      ],
      "metadata": {
        "id": "lufayQ6-2-rs"
      },
      "execution_count": 112,
      "outputs": []
    },
    {
      "cell_type": "code",
      "source": [
        "#"
      ],
      "metadata": {
        "id": "3iDT_n-o3HBN"
      },
      "execution_count": null,
      "outputs": []
    }
  ]
}